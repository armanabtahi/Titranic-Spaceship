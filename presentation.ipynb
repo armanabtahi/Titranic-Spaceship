{
 "cells": [
  {
   "cell_type": "code",
   "execution_count": 1,
   "id": "2176e6f5-95dd-470c-9406-6ed2d6a78b24",
   "metadata": {
    "slideshow": {
     "slide_type": "skip"
    },
    "tags": []
   },
   "outputs": [
    {
     "name": "stderr",
     "output_type": "stream",
     "text": [
      "/Users/seyedarmanabtahi/opt/anaconda3/envs/cpsc330/lib/python3.9/site-packages/xgboost/compat.py:36: FutureWarning: pandas.Int64Index is deprecated and will be removed from pandas in a future version. Use pandas.Index with the appropriate dtype instead.\n",
      "  from pandas import MultiIndex, Int64Index\n"
     ]
    }
   ],
   "source": [
    "import os\n",
    "import csv\n",
    "%matplotlib inline\n",
    "import sys\n",
    "\n",
    "import matplotlib.pyplot as plt\n",
    "import numpy as np\n",
    "import pandas as pd\n",
    "import seaborn as sns\n",
    "#import xgboost as xgb\n",
    "\n",
    "from sklearn.cluster import KMeans, DBSCAN\n",
    "from yellowbrick.cluster import KElbowVisualizer, SilhouetteVisualizer\n",
    "from sklearn.compose import ColumnTransformer, make_column_transformer\n",
    "from sklearn.dummy import DummyClassifier\n",
    "from sklearn.ensemble import RandomForestClassifier,RandomForestRegressor\n",
    "from sklearn.experimental import enable_iterative_imputer\n",
    "from sklearn.impute import SimpleImputer, KNNImputer, IterativeImputer\n",
    "from sklearn.linear_model import LogisticRegression, RidgeClassifier \n",
    "from sklearn.metrics import (\n",
    "    classification_report,\n",
    "    confusion_matrix,\n",
    "    f1_score,\n",
    "    make_scorer,\n",
    "    plot_confusion_matrix,\n",
    "    roc_auc_score,\n",
    "    roc_curve,\n",
    "    average_precision_score,\n",
    "    precision_recall_curve,\n",
    "    precision_score,\n",
    "    recall_score,\n",
    "    accuracy_score\n",
    ")\n",
    "from sklearn.ensemble import VotingClassifier, StackingClassifier\n",
    "from sklearn.model_selection import (\n",
    "    GridSearchCV,\n",
    "    RandomizedSearchCV,\n",
    "    cross_val_score,\n",
    "    cross_validate,\n",
    "    train_test_split,\n",
    "    cross_val_predict,\n",
    "    StratifiedKFold,\n",
    ")\n",
    "\n",
    "import tensorflow as tf\n",
    "from keras.models import Sequential\n",
    "from keras.layers import Dense, Activation, BatchNormalization,Dropout\n",
    "\n",
    "from sklearn.pipeline import Pipeline, make_pipeline\n",
    "from sklearn.preprocessing import OneHotEncoder, OrdinalEncoder, StandardScaler, PolynomialFeatures\n",
    "from sklearn.svm import SVC, LinearSVC\n",
    "\n",
    "from sklearn.neighbors import KNeighborsClassifier\n",
    "from sklearn.svm import SVC\n",
    "from catboost import CatBoostClassifier\n",
    "from lightgbm.sklearn import LGBMClassifier\n",
    "from sklearn.tree import DecisionTreeClassifier\n",
    "from xgboost import XGBClassifier\n",
    "from scipy.stats import expon, lognorm, loguniform, randint, uniform\n",
    "\n",
    "from sklearn.feature_selection import RFECV\n",
    "from sklearn.utils.class_weight import compute_sample_weight\n",
    "\n",
    "#import eli5\n",
    "#import shap\n",
    "\n",
    "def mean_std_cross_val_scores(model, X_train, y_train, **kwargs):\n",
    "    \"\"\"\n",
    "    Returns mean and std of cross validation\n",
    "\n",
    "    Parameters\n",
    "    ----------\n",
    "    model :\n",
    "        scikit-learn model\n",
    "    X_train : numpy array or pandas DataFrame\n",
    "        X in the training data\n",
    "    y_train :\n",
    "        y in the training data\n",
    "\n",
    "    Returns\n",
    "    ----------\n",
    "        pandas Series with mean scores from cross_validation\n",
    "    \"\"\"\n",
    "\n",
    "    scores = cross_validate(model, X_train, y_train, **kwargs)\n",
    "\n",
    "    mean_scores = pd.DataFrame(scores).mean()\n",
    "    std_scores = pd.DataFrame(scores).std()\n",
    "    out_col = []\n",
    "\n",
    "    for i in range(len(mean_scores)):\n",
    "        out_col.append((f\"%0.4f (+/- %0.4f)\" % (mean_scores[i], std_scores[i])))\n",
    "\n",
    "    return pd.Series(data=out_col, index=mean_scores.index)\n",
    "\n",
    "\n",
    "import shap\n",
    "from SmartImputer import SmartImputer\n",
    "from keros_cross_val import keros_cross_val"
   ]
  },
  {
   "cell_type": "markdown",
   "id": "37c1747e",
   "metadata": {
    "slideshow": {
     "slide_type": "slide"
    }
   },
   "source": [
    "# <center> Spaceship Titanic</center>\n",
    "<br><br><br>\n",
    "### <center>Arman Abtahi</center>\n"
   ]
  },
  {
   "cell_type": "markdown",
   "id": "77e2aaca",
   "metadata": {
    "slideshow": {
     "slide_type": "slide"
    },
    "tags": []
   },
   "source": [
    "# Spaceship Titanic\n",
    "\n",
    "<p style=\"text-align: justify\";>Welcome to the year 2912, where your data science skills are needed to solve a cosmic mystery. We've received a transmission from four lightyears away and things aren't looking good.\n",
    "The Spaceship Titanic was an interstellar passenger liner launched a month ago. With almost 13,000 passengers on board, the vessel set out on its maiden voyage transporting emigrants from our solar system to three newly habitable exoplanets orbiting nearby stars.<br><br>\n",
    "    While rounding Alpha Centauri en route to its first destination—the torrid 55 Cancri E—the unwary Spaceship Titanic collided with a spacetime anomaly hidden within a dust cloud. Sadly, it met a similar fate as its namesake from 1000 years before. Though the ship stayed intact, almost half of the passengers were transported to an alternate dimension!<br><br>\n",
    "To help rescue crews and retrieve the lost passengers, you are challenged to predict which passengers were transported by the anomaly using records recovered from the spaceship’s damaged computer system.<br><br>\n",
    "Help save them and change history!</p>"
   ]
  },
  {
   "cell_type": "code",
   "execution_count": 2,
   "id": "35e12bae-c481-4b13-a8f6-d6399e30000c",
   "metadata": {
    "slideshow": {
     "slide_type": "slide"
    }
   },
   "outputs": [
    {
     "data": {
      "text/html": [
       "<div>\n",
       "<style scoped>\n",
       "    .dataframe tbody tr th:only-of-type {\n",
       "        vertical-align: middle;\n",
       "    }\n",
       "\n",
       "    .dataframe tbody tr th {\n",
       "        vertical-align: top;\n",
       "    }\n",
       "\n",
       "    .dataframe thead th {\n",
       "        text-align: right;\n",
       "    }\n",
       "</style>\n",
       "<table border=\"1\" class=\"dataframe\">\n",
       "  <thead>\n",
       "    <tr style=\"text-align: right;\">\n",
       "      <th></th>\n",
       "      <th>PassengerId</th>\n",
       "      <th>HomePlanet</th>\n",
       "      <th>CryoSleep</th>\n",
       "      <th>Cabin</th>\n",
       "      <th>Destination</th>\n",
       "      <th>Age</th>\n",
       "      <th>VIP</th>\n",
       "      <th>RoomService</th>\n",
       "      <th>FoodCourt</th>\n",
       "      <th>ShoppingMall</th>\n",
       "      <th>Spa</th>\n",
       "      <th>VRDeck</th>\n",
       "      <th>Name</th>\n",
       "      <th>Transported</th>\n",
       "    </tr>\n",
       "  </thead>\n",
       "  <tbody>\n",
       "    <tr>\n",
       "      <th>0</th>\n",
       "      <td>0001_01</td>\n",
       "      <td>Europa</td>\n",
       "      <td>False</td>\n",
       "      <td>B/0/P</td>\n",
       "      <td>TRAPPIST-1e</td>\n",
       "      <td>39.0</td>\n",
       "      <td>False</td>\n",
       "      <td>0.0</td>\n",
       "      <td>0.0</td>\n",
       "      <td>0.0</td>\n",
       "      <td>0.0</td>\n",
       "      <td>0.0</td>\n",
       "      <td>Maham Ofracculy</td>\n",
       "      <td>False</td>\n",
       "    </tr>\n",
       "    <tr>\n",
       "      <th>1</th>\n",
       "      <td>0002_01</td>\n",
       "      <td>Earth</td>\n",
       "      <td>False</td>\n",
       "      <td>F/0/S</td>\n",
       "      <td>TRAPPIST-1e</td>\n",
       "      <td>24.0</td>\n",
       "      <td>False</td>\n",
       "      <td>109.0</td>\n",
       "      <td>9.0</td>\n",
       "      <td>25.0</td>\n",
       "      <td>549.0</td>\n",
       "      <td>44.0</td>\n",
       "      <td>Juanna Vines</td>\n",
       "      <td>True</td>\n",
       "    </tr>\n",
       "    <tr>\n",
       "      <th>2</th>\n",
       "      <td>0003_01</td>\n",
       "      <td>Europa</td>\n",
       "      <td>False</td>\n",
       "      <td>A/0/S</td>\n",
       "      <td>TRAPPIST-1e</td>\n",
       "      <td>58.0</td>\n",
       "      <td>True</td>\n",
       "      <td>43.0</td>\n",
       "      <td>3576.0</td>\n",
       "      <td>0.0</td>\n",
       "      <td>6715.0</td>\n",
       "      <td>49.0</td>\n",
       "      <td>Altark Susent</td>\n",
       "      <td>False</td>\n",
       "    </tr>\n",
       "    <tr>\n",
       "      <th>3</th>\n",
       "      <td>0003_02</td>\n",
       "      <td>Europa</td>\n",
       "      <td>False</td>\n",
       "      <td>A/0/S</td>\n",
       "      <td>TRAPPIST-1e</td>\n",
       "      <td>33.0</td>\n",
       "      <td>False</td>\n",
       "      <td>0.0</td>\n",
       "      <td>1283.0</td>\n",
       "      <td>371.0</td>\n",
       "      <td>3329.0</td>\n",
       "      <td>193.0</td>\n",
       "      <td>Solam Susent</td>\n",
       "      <td>False</td>\n",
       "    </tr>\n",
       "    <tr>\n",
       "      <th>4</th>\n",
       "      <td>0004_01</td>\n",
       "      <td>Earth</td>\n",
       "      <td>False</td>\n",
       "      <td>F/1/S</td>\n",
       "      <td>TRAPPIST-1e</td>\n",
       "      <td>16.0</td>\n",
       "      <td>False</td>\n",
       "      <td>303.0</td>\n",
       "      <td>70.0</td>\n",
       "      <td>151.0</td>\n",
       "      <td>565.0</td>\n",
       "      <td>2.0</td>\n",
       "      <td>Willy Santantines</td>\n",
       "      <td>True</td>\n",
       "    </tr>\n",
       "  </tbody>\n",
       "</table>\n",
       "</div>"
      ],
      "text/plain": [
       "  PassengerId HomePlanet CryoSleep  Cabin  Destination   Age    VIP  \\\n",
       "0     0001_01     Europa     False  B/0/P  TRAPPIST-1e  39.0  False   \n",
       "1     0002_01      Earth     False  F/0/S  TRAPPIST-1e  24.0  False   \n",
       "2     0003_01     Europa     False  A/0/S  TRAPPIST-1e  58.0   True   \n",
       "3     0003_02     Europa     False  A/0/S  TRAPPIST-1e  33.0  False   \n",
       "4     0004_01      Earth     False  F/1/S  TRAPPIST-1e  16.0  False   \n",
       "\n",
       "   RoomService  FoodCourt  ShoppingMall     Spa  VRDeck               Name  \\\n",
       "0          0.0        0.0           0.0     0.0     0.0    Maham Ofracculy   \n",
       "1        109.0        9.0          25.0   549.0    44.0       Juanna Vines   \n",
       "2         43.0     3576.0           0.0  6715.0    49.0      Altark Susent   \n",
       "3          0.0     1283.0         371.0  3329.0   193.0       Solam Susent   \n",
       "4        303.0       70.0         151.0   565.0     2.0  Willy Santantines   \n",
       "\n",
       "   Transported  \n",
       "0        False  \n",
       "1         True  \n",
       "2        False  \n",
       "3        False  \n",
       "4         True  "
      ]
     },
     "execution_count": 2,
     "metadata": {},
     "output_type": "execute_result"
    }
   ],
   "source": [
    "df_test =  pd.read_csv(\"data/test.csv\")\n",
    "df_train =  pd.read_csv(\"data/train.csv\")\n",
    "df_train.head()"
   ]
  },
  {
   "cell_type": "code",
   "execution_count": 3,
   "id": "96e08c44",
   "metadata": {
    "slideshow": {
     "slide_type": "-"
    }
   },
   "outputs": [
    {
     "name": "stdout",
     "output_type": "stream",
     "text": [
      "train shape (8693, 14)\n",
      "test shape (4277, 13)\n"
     ]
    }
   ],
   "source": [
    "print(\"train shape\",df_train.shape)\n",
    "print(\"test shape\",df_test.shape)"
   ]
  },
  {
   "cell_type": "code",
   "execution_count": 4,
   "id": "593c79fb",
   "metadata": {
    "slideshow": {
     "slide_type": "slide"
    }
   },
   "outputs": [
    {
     "name": "stdout",
     "output_type": "stream",
     "text": [
      "<class 'pandas.core.frame.DataFrame'>\n",
      "RangeIndex: 4277 entries, 0 to 4276\n",
      "Data columns (total 13 columns):\n",
      " #   Column        Non-Null Count  Dtype  \n",
      "---  ------        --------------  -----  \n",
      " 0   PassengerId   4277 non-null   object \n",
      " 1   HomePlanet    4190 non-null   object \n",
      " 2   CryoSleep     4184 non-null   object \n",
      " 3   Cabin         4177 non-null   object \n",
      " 4   Destination   4185 non-null   object \n",
      " 5   Age           4186 non-null   float64\n",
      " 6   VIP           4184 non-null   object \n",
      " 7   RoomService   4195 non-null   float64\n",
      " 8   FoodCourt     4171 non-null   float64\n",
      " 9   ShoppingMall  4179 non-null   float64\n",
      " 10  Spa           4176 non-null   float64\n",
      " 11  VRDeck        4197 non-null   float64\n",
      " 12  Name          4183 non-null   object \n",
      "dtypes: float64(6), object(7)\n",
      "memory usage: 434.5+ KB\n"
     ]
    }
   ],
   "source": [
    "df_test.info()"
   ]
  },
  {
   "cell_type": "markdown",
   "id": "d0c00dba",
   "metadata": {
    "slideshow": {
     "slide_type": "slide"
    }
   },
   "source": [
    "**PassengerId** - A unique Id for each passenger. Each Id takes the form gggg_pp where gggg indicates a group the passenger is travelling with and pp is their number within the group. People in a group are often family members, but not always.<br>\n",
    "**HomePlanet** - The planet the passenger departed from, typically their planet of permanent residence.<br>\n",
    "**CryoSleep** - Indicates whether the passenger elected to be put into suspended animation for the duration of the voyage. Passengers in cryosleep are confined to their cabins.<br>\n",
    "**Cabin** - The cabin number where the passenger is staying. Takes the form deck/num/side, where side can be either P for Port or S for Starboard.<br>\n",
    "**Destination** - The planet the passenger will be debarking to.<br>\n",
    "**Age** - The age of the passenger.<br>\n",
    "**VIP** - Whether the passenger has paid for special VIP service during the voyage.<br>\n",
    "**RoomService**, **FoodCourt**, **ShoppingMall**, **Spa**, **VRDeck** - Amount the passenger has billed at each of the Spaceship Titanic's many luxury amenities.<br>\n",
    "**Name** - The first and last names of the passenger.<br>\n",
    "**Transported** - Whether the passenger was transported to another dimension. This is the target, the column you are trying to predict."
   ]
  },
  {
   "cell_type": "code",
   "execution_count": 5,
   "id": "dba0e696",
   "metadata": {
    "slideshow": {
     "slide_type": "subslide"
    }
   },
   "outputs": [
    {
     "data": {
      "text/html": [
       "<div>\n",
       "<style scoped>\n",
       "    .dataframe tbody tr th:only-of-type {\n",
       "        vertical-align: middle;\n",
       "    }\n",
       "\n",
       "    .dataframe tbody tr th {\n",
       "        vertical-align: top;\n",
       "    }\n",
       "\n",
       "    .dataframe thead th {\n",
       "        text-align: right;\n",
       "    }\n",
       "</style>\n",
       "<table border=\"1\" class=\"dataframe\">\n",
       "  <thead>\n",
       "    <tr style=\"text-align: right;\">\n",
       "      <th></th>\n",
       "      <th>PassengerId</th>\n",
       "      <th>HomePlanet</th>\n",
       "      <th>CryoSleep</th>\n",
       "      <th>Cabin</th>\n",
       "      <th>Destination</th>\n",
       "      <th>Age</th>\n",
       "      <th>VIP</th>\n",
       "      <th>RoomService</th>\n",
       "      <th>FoodCourt</th>\n",
       "      <th>ShoppingMall</th>\n",
       "      <th>Spa</th>\n",
       "      <th>VRDeck</th>\n",
       "      <th>Name</th>\n",
       "      <th>Transported</th>\n",
       "    </tr>\n",
       "  </thead>\n",
       "  <tbody>\n",
       "    <tr>\n",
       "      <th>0</th>\n",
       "      <td>0001_01</td>\n",
       "      <td>Europa</td>\n",
       "      <td>False</td>\n",
       "      <td>B/0/P</td>\n",
       "      <td>TRAPPIST-1e</td>\n",
       "      <td>39.0</td>\n",
       "      <td>False</td>\n",
       "      <td>0.0</td>\n",
       "      <td>0.0</td>\n",
       "      <td>0.0</td>\n",
       "      <td>0.0</td>\n",
       "      <td>0.0</td>\n",
       "      <td>Maham Ofracculy</td>\n",
       "      <td>False</td>\n",
       "    </tr>\n",
       "    <tr>\n",
       "      <th>1</th>\n",
       "      <td>0002_01</td>\n",
       "      <td>Earth</td>\n",
       "      <td>False</td>\n",
       "      <td>F/0/S</td>\n",
       "      <td>TRAPPIST-1e</td>\n",
       "      <td>24.0</td>\n",
       "      <td>False</td>\n",
       "      <td>109.0</td>\n",
       "      <td>9.0</td>\n",
       "      <td>25.0</td>\n",
       "      <td>549.0</td>\n",
       "      <td>44.0</td>\n",
       "      <td>Juanna Vines</td>\n",
       "      <td>True</td>\n",
       "    </tr>\n",
       "    <tr>\n",
       "      <th>2</th>\n",
       "      <td>0003_01</td>\n",
       "      <td>Europa</td>\n",
       "      <td>False</td>\n",
       "      <td>A/0/S</td>\n",
       "      <td>TRAPPIST-1e</td>\n",
       "      <td>58.0</td>\n",
       "      <td>True</td>\n",
       "      <td>43.0</td>\n",
       "      <td>3576.0</td>\n",
       "      <td>0.0</td>\n",
       "      <td>6715.0</td>\n",
       "      <td>49.0</td>\n",
       "      <td>Altark Susent</td>\n",
       "      <td>False</td>\n",
       "    </tr>\n",
       "    <tr>\n",
       "      <th>3</th>\n",
       "      <td>0003_02</td>\n",
       "      <td>Europa</td>\n",
       "      <td>False</td>\n",
       "      <td>A/0/S</td>\n",
       "      <td>TRAPPIST-1e</td>\n",
       "      <td>33.0</td>\n",
       "      <td>False</td>\n",
       "      <td>0.0</td>\n",
       "      <td>1283.0</td>\n",
       "      <td>371.0</td>\n",
       "      <td>3329.0</td>\n",
       "      <td>193.0</td>\n",
       "      <td>Solam Susent</td>\n",
       "      <td>False</td>\n",
       "    </tr>\n",
       "    <tr>\n",
       "      <th>4</th>\n",
       "      <td>0004_01</td>\n",
       "      <td>Earth</td>\n",
       "      <td>False</td>\n",
       "      <td>F/1/S</td>\n",
       "      <td>TRAPPIST-1e</td>\n",
       "      <td>16.0</td>\n",
       "      <td>False</td>\n",
       "      <td>303.0</td>\n",
       "      <td>70.0</td>\n",
       "      <td>151.0</td>\n",
       "      <td>565.0</td>\n",
       "      <td>2.0</td>\n",
       "      <td>Willy Santantines</td>\n",
       "      <td>True</td>\n",
       "    </tr>\n",
       "  </tbody>\n",
       "</table>\n",
       "</div>"
      ],
      "text/plain": [
       "  PassengerId HomePlanet CryoSleep  Cabin  Destination   Age    VIP  \\\n",
       "0     0001_01     Europa     False  B/0/P  TRAPPIST-1e  39.0  False   \n",
       "1     0002_01      Earth     False  F/0/S  TRAPPIST-1e  24.0  False   \n",
       "2     0003_01     Europa     False  A/0/S  TRAPPIST-1e  58.0   True   \n",
       "3     0003_02     Europa     False  A/0/S  TRAPPIST-1e  33.0  False   \n",
       "4     0004_01      Earth     False  F/1/S  TRAPPIST-1e  16.0  False   \n",
       "\n",
       "   RoomService  FoodCourt  ShoppingMall     Spa  VRDeck               Name  \\\n",
       "0          0.0        0.0           0.0     0.0     0.0    Maham Ofracculy   \n",
       "1        109.0        9.0          25.0   549.0    44.0       Juanna Vines   \n",
       "2         43.0     3576.0           0.0  6715.0    49.0      Altark Susent   \n",
       "3          0.0     1283.0         371.0  3329.0   193.0       Solam Susent   \n",
       "4        303.0       70.0         151.0   565.0     2.0  Willy Santantines   \n",
       "\n",
       "   Transported  \n",
       "0        False  \n",
       "1         True  \n",
       "2        False  \n",
       "3        False  \n",
       "4         True  "
      ]
     },
     "execution_count": 5,
     "metadata": {},
     "output_type": "execute_result"
    }
   ],
   "source": [
    "df_train.head()"
   ]
  },
  {
   "cell_type": "code",
   "execution_count": 6,
   "id": "dddf85c8",
   "metadata": {
    "slideshow": {
     "slide_type": "slide"
    }
   },
   "outputs": [],
   "source": [
    "numerical_features=[\"Age\",\"RoomService\",\"FoodCourt\",\"ShoppingMall\",\"Spa\",\"VRDeck\"]\n",
    "categorical_features=[\"HomePlanet\",\"Destination\"]\n",
    "binary_features=[\"CryoSleep\",\"VIP\"]\n",
    "passthrough_features = []\n",
    "drop_features=[\"PassengerId\",\"Name\",\"Cabin\"]\n",
    "target=\"Transported\"\n",
    "\n",
    "numeric_transformer=make_pipeline(SimpleImputer(strategy=\"median\"),StandardScaler())\n",
    "categorical_transformer=make_pipeline(SimpleImputer(strategy=\"most_frequent\"),OneHotEncoder(handle_unknown='ignore',sparse=False,drop=\"first\"))\n",
    "binary_transformer=make_pipeline(SimpleImputer(strategy=\"most_frequent\"),OneHotEncoder(handle_unknown='ignore',drop=\"if_binary\",sparse=False))\n",
    "    \n",
    "preprocessor=make_column_transformer(\n",
    "    (numeric_transformer,numerical_features),\n",
    "    (categorical_transformer,categorical_features),\n",
    "    (binary_transformer,binary_features),\n",
    "    (\"passthrough\",passthrough_features),\n",
    "    (\"drop\",drop_features),\n",
    ")"
   ]
  },
  {
   "cell_type": "code",
   "execution_count": 7,
   "id": "e60554f4",
   "metadata": {
    "slideshow": {
     "slide_type": "-"
    }
   },
   "outputs": [],
   "source": [
    "X_train=df_train.drop(columns=target)\n",
    "y_train=df_train[[target]]\n",
    "y_train=np.ravel(y_train)*1\n",
    "X_test=df_test"
   ]
  },
  {
   "cell_type": "code",
   "execution_count": 8,
   "id": "6339461c",
   "metadata": {
    "slideshow": {
     "slide_type": "slide"
    }
   },
   "outputs": [
    {
     "data": {
      "text/html": [
       "<div>\n",
       "<style scoped>\n",
       "    .dataframe tbody tr th:only-of-type {\n",
       "        vertical-align: middle;\n",
       "    }\n",
       "\n",
       "    .dataframe tbody tr th {\n",
       "        vertical-align: top;\n",
       "    }\n",
       "\n",
       "    .dataframe thead th {\n",
       "        text-align: right;\n",
       "    }\n",
       "</style>\n",
       "<table border=\"1\" class=\"dataframe\">\n",
       "  <thead>\n",
       "    <tr style=\"text-align: right;\">\n",
       "      <th></th>\n",
       "      <th>DummyClassifier</th>\n",
       "      <th>LogisticRegression</th>\n",
       "      <th>SVC</th>\n",
       "    </tr>\n",
       "  </thead>\n",
       "  <tbody>\n",
       "    <tr>\n",
       "      <th>fit_time</th>\n",
       "      <td>0.0235 (+/- 0.0037)</td>\n",
       "      <td>0.0355 (+/- 0.0032)</td>\n",
       "      <td>1.2808 (+/- 0.0580)</td>\n",
       "    </tr>\n",
       "    <tr>\n",
       "      <th>score_time</th>\n",
       "      <td>0.0073 (+/- 0.0007)</td>\n",
       "      <td>0.0075 (+/- 0.0005)</td>\n",
       "      <td>0.5875 (+/- 0.0945)</td>\n",
       "    </tr>\n",
       "    <tr>\n",
       "      <th>test_accuracy</th>\n",
       "      <td>0.5036 (+/- 0.0002)</td>\n",
       "      <td>0.7857 (+/- 0.0055)</td>\n",
       "      <td>0.7891 (+/- 0.0105)</td>\n",
       "    </tr>\n",
       "    <tr>\n",
       "      <th>train_accuracy</th>\n",
       "      <td>0.5036 (+/- 0.0000)</td>\n",
       "      <td>0.7867 (+/- 0.0023)</td>\n",
       "      <td>0.7947 (+/- 0.0022)</td>\n",
       "    </tr>\n",
       "  </tbody>\n",
       "</table>\n",
       "</div>"
      ],
      "text/plain": [
       "                    DummyClassifier   LogisticRegression                  SVC\n",
       "fit_time        0.0235 (+/- 0.0037)  0.0355 (+/- 0.0032)  1.2808 (+/- 0.0580)\n",
       "score_time      0.0073 (+/- 0.0007)  0.0075 (+/- 0.0005)  0.5875 (+/- 0.0945)\n",
       "test_accuracy   0.5036 (+/- 0.0002)  0.7857 (+/- 0.0055)  0.7891 (+/- 0.0105)\n",
       "train_accuracy  0.5036 (+/- 0.0000)  0.7867 (+/- 0.0023)  0.7947 (+/- 0.0022)"
      ]
     },
     "execution_count": 8,
     "metadata": {},
     "output_type": "execute_result"
    }
   ],
   "source": [
    "scores={}\n",
    "scoring=[\"accuracy\"]\n",
    "pipe_dc=make_pipeline(preprocessor,DummyClassifier())\n",
    "scores[\"DummyClassifier\"]=mean_std_cross_val_scores(pipe_dc,  X_train, y_train,  scoring=scoring,cv=5,return_train_score=True)\n",
    "pipe_lr=make_pipeline(preprocessor,LogisticRegression(max_iter=2000))\n",
    "scores[\"LogisticRegression\"]=mean_std_cross_val_scores(pipe_lr,  X_train,y_train,scoring=scoring,cv=5,return_train_score=True)\n",
    "pipe_svc_rbf = make_pipeline(preprocessor, SVC(kernel='rbf',max_iter=20000))\n",
    "scores[\"SVC\"]=mean_std_cross_val_scores(pipe_svc_rbf,  X_train,y_train,scoring=scoring,cv=5,return_train_score=True)\n",
    "pd.DataFrame(scores)"
   ]
  },
  {
   "cell_type": "markdown",
   "id": "87cad886",
   "metadata": {
    "slideshow": {
     "slide_type": "fragment"
    }
   },
   "source": [
    "Leaderboard score is **0.82043**"
   ]
  },
  {
   "cell_type": "markdown",
   "id": "c0e90d3d",
   "metadata": {
    "slideshow": {
     "slide_type": "fragment"
    }
   },
   "source": [
    "Is this good enough?<br>\n",
    "For industrial purposes yes, but not for Kaggle competitions."
   ]
  },
  {
   "cell_type": "markdown",
   "id": "2747f9e2",
   "metadata": {
    "slideshow": {
     "slide_type": "fragment"
    }
   },
   "source": [
    "What can be done?"
   ]
  },
  {
   "cell_type": "markdown",
   "id": "d7aff7ce",
   "metadata": {
    "slideshow": {
     "slide_type": "slide"
    }
   },
   "source": [
    "# Exploratory Data Analysis"
   ]
  },
  {
   "cell_type": "markdown",
   "id": "5e478d78",
   "metadata": {
    "slideshow": {
     "slide_type": "fragment"
    }
   },
   "source": [
    "**Cabin** - Takes the form deck/num/side, where side can be either P for Port or S for Starboard.<br>"
   ]
  },
  {
   "cell_type": "code",
   "execution_count": 9,
   "id": "7af438a6",
   "metadata": {
    "slideshow": {
     "slide_type": "fragment"
    }
   },
   "outputs": [
    {
     "data": {
      "text/html": [
       "<div>\n",
       "<style scoped>\n",
       "    .dataframe tbody tr th:only-of-type {\n",
       "        vertical-align: middle;\n",
       "    }\n",
       "\n",
       "    .dataframe tbody tr th {\n",
       "        vertical-align: top;\n",
       "    }\n",
       "\n",
       "    .dataframe thead th {\n",
       "        text-align: right;\n",
       "    }\n",
       "</style>\n",
       "<table border=\"1\" class=\"dataframe\">\n",
       "  <thead>\n",
       "    <tr style=\"text-align: right;\">\n",
       "      <th></th>\n",
       "      <th>Cabin</th>\n",
       "    </tr>\n",
       "  </thead>\n",
       "  <tbody>\n",
       "    <tr>\n",
       "      <th>0</th>\n",
       "      <td>B/0/P</td>\n",
       "    </tr>\n",
       "    <tr>\n",
       "      <th>1</th>\n",
       "      <td>F/0/S</td>\n",
       "    </tr>\n",
       "    <tr>\n",
       "      <th>2</th>\n",
       "      <td>A/0/S</td>\n",
       "    </tr>\n",
       "    <tr>\n",
       "      <th>3</th>\n",
       "      <td>A/0/S</td>\n",
       "    </tr>\n",
       "    <tr>\n",
       "      <th>4</th>\n",
       "      <td>F/1/S</td>\n",
       "    </tr>\n",
       "  </tbody>\n",
       "</table>\n",
       "</div>"
      ],
      "text/plain": [
       "   Cabin\n",
       "0  B/0/P\n",
       "1  F/0/S\n",
       "2  A/0/S\n",
       "3  A/0/S\n",
       "4  F/1/S"
      ]
     },
     "execution_count": 9,
     "metadata": {},
     "output_type": "execute_result"
    }
   ],
   "source": [
    "X_train[[\"Cabin\"]].head()"
   ]
  },
  {
   "cell_type": "code",
   "execution_count": 10,
   "id": "bed3de21",
   "metadata": {
    "slideshow": {
     "slide_type": "fragment"
    }
   },
   "outputs": [
    {
     "data": {
      "text/html": [
       "<div>\n",
       "<style scoped>\n",
       "    .dataframe tbody tr th:only-of-type {\n",
       "        vertical-align: middle;\n",
       "    }\n",
       "\n",
       "    .dataframe tbody tr th {\n",
       "        vertical-align: top;\n",
       "    }\n",
       "\n",
       "    .dataframe thead th {\n",
       "        text-align: right;\n",
       "    }\n",
       "</style>\n",
       "<table border=\"1\" class=\"dataframe\">\n",
       "  <thead>\n",
       "    <tr style=\"text-align: right;\">\n",
       "      <th></th>\n",
       "      <th>cabin_deck</th>\n",
       "      <th>cabin_number</th>\n",
       "      <th>cabin_side</th>\n",
       "    </tr>\n",
       "  </thead>\n",
       "  <tbody>\n",
       "    <tr>\n",
       "      <th>0</th>\n",
       "      <td>B</td>\n",
       "      <td>0</td>\n",
       "      <td>P</td>\n",
       "    </tr>\n",
       "    <tr>\n",
       "      <th>1</th>\n",
       "      <td>F</td>\n",
       "      <td>0</td>\n",
       "      <td>S</td>\n",
       "    </tr>\n",
       "    <tr>\n",
       "      <th>2</th>\n",
       "      <td>A</td>\n",
       "      <td>0</td>\n",
       "      <td>S</td>\n",
       "    </tr>\n",
       "    <tr>\n",
       "      <th>3</th>\n",
       "      <td>A</td>\n",
       "      <td>0</td>\n",
       "      <td>S</td>\n",
       "    </tr>\n",
       "    <tr>\n",
       "      <th>4</th>\n",
       "      <td>F</td>\n",
       "      <td>1</td>\n",
       "      <td>S</td>\n",
       "    </tr>\n",
       "  </tbody>\n",
       "</table>\n",
       "</div>"
      ],
      "text/plain": [
       "  cabin_deck cabin_number cabin_side\n",
       "0          B            0          P\n",
       "1          F            0          S\n",
       "2          A            0          S\n",
       "3          A            0          S\n",
       "4          F            1          S"
      ]
     },
     "execution_count": 10,
     "metadata": {},
     "output_type": "execute_result"
    }
   ],
   "source": [
    "cabin_train=df_train[\"Cabin\"].str.split('/', expand=True)\n",
    "cabin_train=cabin_train.rename(columns={0: 'cabin_deck', 1: 'cabin_number', 2: 'cabin_side'})\n",
    "df_train = pd.concat([df_train, cabin_train], axis=1).drop(columns=\"Cabin\")\n",
    "cabin_train.head()"
   ]
  },
  {
   "cell_type": "markdown",
   "id": "146db4ac",
   "metadata": {
    "slideshow": {
     "slide_type": "slide"
    }
   },
   "source": [
    "**PassengerId** - A unique Id for each passenger. Each Id takes the form gggg_pp where gggg indicates a group the passenger is travelling with and pp is their number within the group. People in a group are often family members, but not always.<br>"
   ]
  },
  {
   "cell_type": "code",
   "execution_count": 11,
   "id": "b38a2e78",
   "metadata": {
    "slideshow": {
     "slide_type": "fragment"
    }
   },
   "outputs": [
    {
     "data": {
      "text/html": [
       "<div>\n",
       "<style scoped>\n",
       "    .dataframe tbody tr th:only-of-type {\n",
       "        vertical-align: middle;\n",
       "    }\n",
       "\n",
       "    .dataframe tbody tr th {\n",
       "        vertical-align: top;\n",
       "    }\n",
       "\n",
       "    .dataframe thead th {\n",
       "        text-align: right;\n",
       "    }\n",
       "</style>\n",
       "<table border=\"1\" class=\"dataframe\">\n",
       "  <thead>\n",
       "    <tr style=\"text-align: right;\">\n",
       "      <th></th>\n",
       "      <th>PassengerId</th>\n",
       "    </tr>\n",
       "  </thead>\n",
       "  <tbody>\n",
       "    <tr>\n",
       "      <th>0</th>\n",
       "      <td>0001_01</td>\n",
       "    </tr>\n",
       "    <tr>\n",
       "      <th>1</th>\n",
       "      <td>0002_01</td>\n",
       "    </tr>\n",
       "    <tr>\n",
       "      <th>2</th>\n",
       "      <td>0003_01</td>\n",
       "    </tr>\n",
       "    <tr>\n",
       "      <th>3</th>\n",
       "      <td>0003_02</td>\n",
       "    </tr>\n",
       "    <tr>\n",
       "      <th>4</th>\n",
       "      <td>0004_01</td>\n",
       "    </tr>\n",
       "  </tbody>\n",
       "</table>\n",
       "</div>"
      ],
      "text/plain": [
       "  PassengerId\n",
       "0     0001_01\n",
       "1     0002_01\n",
       "2     0003_01\n",
       "3     0003_02\n",
       "4     0004_01"
      ]
     },
     "execution_count": 11,
     "metadata": {},
     "output_type": "execute_result"
    }
   ],
   "source": [
    "X_train[[\"PassengerId\"]].head()"
   ]
  },
  {
   "cell_type": "code",
   "execution_count": 12,
   "id": "c32d2a6e",
   "metadata": {
    "slideshow": {
     "slide_type": "fragment"
    }
   },
   "outputs": [
    {
     "data": {
      "text/html": [
       "<div>\n",
       "<style scoped>\n",
       "    .dataframe tbody tr th:only-of-type {\n",
       "        vertical-align: middle;\n",
       "    }\n",
       "\n",
       "    .dataframe tbody tr th {\n",
       "        vertical-align: top;\n",
       "    }\n",
       "\n",
       "    .dataframe thead th {\n",
       "        text-align: right;\n",
       "    }\n",
       "</style>\n",
       "<table border=\"1\" class=\"dataframe\">\n",
       "  <thead>\n",
       "    <tr style=\"text-align: right;\">\n",
       "      <th></th>\n",
       "      <th>GroupId</th>\n",
       "      <th>Family</th>\n",
       "    </tr>\n",
       "  </thead>\n",
       "  <tbody>\n",
       "    <tr>\n",
       "      <th>0</th>\n",
       "      <td>1</td>\n",
       "      <td>1</td>\n",
       "    </tr>\n",
       "    <tr>\n",
       "      <th>1</th>\n",
       "      <td>2</td>\n",
       "      <td>1</td>\n",
       "    </tr>\n",
       "    <tr>\n",
       "      <th>2</th>\n",
       "      <td>3</td>\n",
       "      <td>2</td>\n",
       "    </tr>\n",
       "    <tr>\n",
       "      <th>3</th>\n",
       "      <td>3</td>\n",
       "      <td>2</td>\n",
       "    </tr>\n",
       "    <tr>\n",
       "      <th>4</th>\n",
       "      <td>4</td>\n",
       "      <td>1</td>\n",
       "    </tr>\n",
       "  </tbody>\n",
       "</table>\n",
       "</div>"
      ],
      "text/plain": [
       "   GroupId  Family\n",
       "0        1       1\n",
       "1        2       1\n",
       "2        3       2\n",
       "3        3       2\n",
       "4        4       1"
      ]
     },
     "execution_count": 12,
     "metadata": {},
     "output_type": "execute_result"
    }
   ],
   "source": [
    "PassengerId_train=df_train[\"PassengerId\"].str.split('_', expand=True).astype(int)\n",
    "PassengerId_train=PassengerId_train.rename(columns={0: 'GroupId', 1: 'Family'})\n",
    "for i in range(PassengerId_train.shape[0]):\n",
    "    member=PassengerId_train.loc[i,\"Family\"]\n",
    "    for j in range(member):\n",
    "        PassengerId_train.loc[i-j,\"Family\"]=member\n",
    "df_train = pd.concat([df_train, PassengerId_train], axis=1)\n",
    "PassengerId_train.head()"
   ]
  },
  {
   "cell_type": "code",
   "execution_count": 13,
   "id": "c89dadd9",
   "metadata": {
    "slideshow": {
     "slide_type": "slide"
    }
   },
   "outputs": [
    {
     "data": {
      "image/png": "[encoded data removed]",
      "text/plain": [
       "<Figure size 576x396 with 1 Axes>"
      ]
     },
     "metadata": {},
     "output_type": "display_data"
    }
   ],
   "source": [
    "Transported=df_train[df_train[target] == 1]\n",
    "Idle=df_train[df_train[target] == 0]\n",
    "trans = Transported[\"Family\"].value_counts(normalize=True).sort_index()\n",
    "idl = Idle[\"Family\"].value_counts(normalize=True).sort_index()\n",
    "trans.plot(kind='bar',alpha=0.6, label='transported',color='blue',legend='transported').set_title(\"Nomrlaized bar plot of Family by count\" )\n",
    "idl.plot(kind='bar',alpha=0.6, label='idle',color='red',legend='idle');"
   ]
  },
  {
   "cell_type": "code",
   "execution_count": 14,
   "id": "51465726",
   "metadata": {
    "slideshow": {
     "slide_type": "skip"
    }
   },
   "outputs": [],
   "source": [
    "cabin_test=df_test[\"Cabin\"].str.split('/', expand=True)\n",
    "cabin_test=cabin_test.rename(columns={0: 'cabin_deck', 1: 'cabin_number', 2: 'cabin_side'})\n",
    "df_test = pd.concat([df_test, cabin_test], axis=1).drop(columns=\"Cabin\")\n",
    "PassengerId_test=df_test[\"PassengerId\"].str.split('_', expand=True).astype(int)\n",
    "PassengerId_test=PassengerId_test.rename(columns={0: 'GroupId', 1: 'Family'})\n",
    "for i in range(PassengerId_test.shape[0]):\n",
    "    member=PassengerId_test.loc[i,\"Family\"]\n",
    "    for j in range(member):\n",
    "        PassengerId_test.loc[i-j,\"Family\"]=member\n",
    "df_test = pd.concat([df_test, PassengerId_test], axis=1)"
   ]
  },
  {
   "cell_type": "markdown",
   "id": "d8a8fd90",
   "metadata": {
    "slideshow": {
     "slide_type": "slide"
    }
   },
   "source": [
    "# Exploratory Data Analysis"
   ]
  },
  {
   "cell_type": "code",
   "execution_count": 15,
   "id": "b8823471",
   "metadata": {
    "slideshow": {
     "slide_type": "fragment"
    }
   },
   "outputs": [
    {
     "data": {
      "image/png": "[encoded data removed]",
      "text/plain": [
       "<Figure size 576x396 with 1 Axes>"
      ]
     },
     "metadata": {},
     "output_type": "display_data"
    }
   ],
   "source": [
    "df_train[target].value_counts(normalize=True).rename(index={0:\"Idle\",1:\"Transported\"}).plot(kind=\"bar\",color=[\"blue\",\"red\"],alpha=0.6,).set_title(\"probability of being transported\");"
   ]
  },
  {
   "cell_type": "code",
   "execution_count": 16,
   "id": "457835c9",
   "metadata": {
    "slideshow": {
     "slide_type": "slide"
    }
   },
   "outputs": [
    {
     "data": {
      "image/png": "[encoded data removed]",
      "text/plain": [
       "<Figure size 576x396 with 1 Axes>"
      ]
     },
     "metadata": {},
     "output_type": "display_data"
    }
   ],
   "source": [
    "trans = Transported[\"HomePlanet\"].value_counts(normalize=True).sort_index()\n",
    "idl = Idle[\"HomePlanet\"].value_counts(normalize=True).sort_index()\n",
    "trans.plot(kind='bar',alpha=0.6, label='transported',color='blue',legend='transported').set_title(\"Nomrlaized bar plot of HomePlanet by count\" )\n",
    "idl.plot(kind='bar',alpha=0.6, label='idle',color='red',legend='idle');"
   ]
  },
  {
   "cell_type": "markdown",
   "id": "f03a9d14",
   "metadata": {
    "slideshow": {
     "slide_type": "-"
    }
   },
   "source": [
    "Europa, or Jupiter II, is the smallest of the four Galilean moons orbiting Jupiter"
   ]
  },
  {
   "cell_type": "code",
   "execution_count": 17,
   "id": "a8c51489",
   "metadata": {
    "slideshow": {
     "slide_type": "slide"
    }
   },
   "outputs": [
    {
     "data": {
      "text/plain": [
       "array(['A', 'B', 'C', 'D', 'E', 'F', 'G', 'T', nan], dtype=object)"
      ]
     },
     "execution_count": 17,
     "metadata": {},
     "output_type": "execute_result"
    }
   ],
   "source": [
    "df_train[\"cabin_deck\"].sort_values().unique()"
   ]
  },
  {
   "cell_type": "markdown",
   "id": "48d461be",
   "metadata": {
    "slideshow": {
     "slide_type": "-"
    }
   },
   "source": [
    "## Home Planet: Mars"
   ]
  },
  {
   "cell_type": "code",
   "execution_count": 18,
   "id": "2a22bffa",
   "metadata": {
    "slideshow": {
     "slide_type": "-"
    }
   },
   "outputs": [
    {
     "data": {
      "text/plain": [
       "<AxesSubplot:>"
      ]
     },
     "execution_count": 18,
     "metadata": {},
     "output_type": "execute_result"
    },
    {
     "data": {
      "image/png": "[encoded data removed]",
      "text/plain": [
       "<Figure size 576x396 with 1 Axes>"
      ]
     },
     "metadata": {},
     "output_type": "display_data"
    }
   ],
   "source": [
    "df_train[df_train[\"HomePlanet\"]==\"Mars\"][\"cabin_deck\"].value_counts().plot(kind='bar',alpha=0.6, legend='Mars',color='green')"
   ]
  },
  {
   "cell_type": "code",
   "execution_count": 19,
   "id": "adbff01d",
   "metadata": {
    "slideshow": {
     "slide_type": "slide"
    }
   },
   "outputs": [
    {
     "data": {
      "text/plain": [
       "array(['A', 'B', 'C', 'D', 'E', 'F', 'G', 'T', nan], dtype=object)"
      ]
     },
     "execution_count": 19,
     "metadata": {},
     "output_type": "execute_result"
    }
   ],
   "source": [
    "df_train[\"cabin_deck\"].sort_values().unique()"
   ]
  },
  {
   "cell_type": "markdown",
   "id": "f619f9f4",
   "metadata": {
    "slideshow": {
     "slide_type": "-"
    }
   },
   "source": [
    "## Home Planet: Earth"
   ]
  },
  {
   "cell_type": "code",
   "execution_count": 20,
   "id": "d4b72143",
   "metadata": {
    "slideshow": {
     "slide_type": "-"
    }
   },
   "outputs": [
    {
     "data": {
      "text/plain": [
       "<AxesSubplot:>"
      ]
     },
     "execution_count": 20,
     "metadata": {},
     "output_type": "execute_result"
    },
    {
     "data": {
      "image/png": "[encoded data removed]",
      "text/plain": [
       "<Figure size 576x396 with 1 Axes>"
      ]
     },
     "metadata": {},
     "output_type": "display_data"
    }
   ],
   "source": [
    "df_train[df_train[\"HomePlanet\"]==\"Earth\"][\"cabin_deck\"].value_counts().plot(kind='bar',alpha=0.6, legend='Earth',color='blue')"
   ]
  },
  {
   "cell_type": "code",
   "execution_count": 21,
   "id": "c8009161",
   "metadata": {
    "slideshow": {
     "slide_type": "slide"
    }
   },
   "outputs": [
    {
     "data": {
      "text/plain": [
       "array(['A', 'B', 'C', 'D', 'E', 'F', 'G', 'T', nan], dtype=object)"
      ]
     },
     "execution_count": 21,
     "metadata": {},
     "output_type": "execute_result"
    }
   ],
   "source": [
    "df_train[\"cabin_deck\"].sort_values().unique()"
   ]
  },
  {
   "cell_type": "markdown",
   "id": "47d3b340",
   "metadata": {
    "slideshow": {
     "slide_type": "-"
    }
   },
   "source": [
    "## Home Planet: Europa"
   ]
  },
  {
   "cell_type": "code",
   "execution_count": 22,
   "id": "6a6460e5",
   "metadata": {},
   "outputs": [
    {
     "data": {
      "text/plain": [
       "<AxesSubplot:>"
      ]
     },
     "execution_count": 22,
     "metadata": {},
     "output_type": "execute_result"
    },
    {
     "data": {
      "image/png": "[encoded data removed]",
      "text/plain": [
       "<Figure size 576x396 with 1 Axes>"
      ]
     },
     "metadata": {},
     "output_type": "display_data"
    }
   ],
   "source": [
    "df_train[df_train[\"HomePlanet\"]==\"Europa\"][\"cabin_deck\"].value_counts().plot(kind='bar',alpha=0.6, legend='Europa',color='red')"
   ]
  },
  {
   "cell_type": "markdown",
   "id": "36aca520",
   "metadata": {
    "slideshow": {
     "slide_type": "slide"
    }
   },
   "source": [
    "# Smart Imputation"
   ]
  },
  {
   "cell_type": "code",
   "execution_count": 23,
   "id": "aa03457d",
   "metadata": {
    "slideshow": {
     "slide_type": "skip"
    }
   },
   "outputs": [],
   "source": [
    "X_train=df_train.drop(columns=target)\n",
    "y_train=df_train[[target]]\n",
    "X_test=df_test\n",
    "numerical_features=[\"Age\",\"RoomService\",\"FoodCourt\",\"ShoppingMall\",\"Spa\",\"VRDeck\",\"cabin_number\"]\n",
    "categorical_features=[\"HomePlanet\",\"Destination\",\"cabin_deck\",\"cabin_side\",\"Family\"]\n",
    "binary_features=[\"CryoSleep\",\"VIP\"]\n",
    "passthrough_features = []\n",
    "drop_features=[\"PassengerId\",\"GroupId\",\"Name\"]\n",
    "\n",
    "dic={\"numerics\":numerical_features,\n",
    "     \"categories\":categorical_features,\n",
    "     \"binaries\":binary_features,\n",
    "     \"passthrough\":passthrough_features,\n",
    "     \"drops\":drop_features\n",
    "    }\n",
    "features=numerical_features+categorical_features+binary_features+passthrough_features+drop_features\n",
    "#assert set(features)==set(feats)+set\n",
    "Impute_df=pd.concat([X_train, X_test], axis=0).reset_index(drop=True)"
   ]
  },
  {
   "cell_type": "code",
   "execution_count": 24,
   "id": "0b4e026d",
   "metadata": {
    "slideshow": {
     "slide_type": "fragment"
    }
   },
   "outputs": [],
   "source": [
    "Impute_df.loc[Impute_df[Impute_df[\"cabin_deck\"]==\"G\"][\"HomePlanet\"].index,\"HomePlanet\"]=\"Earth\"\n",
    "Impute_df.loc[Impute_df[(Impute_df[\"cabin_deck\"]==\"A\")|(Impute_df[\"cabin_deck\"]==\"B\")|(Impute_df[\"cabin_deck\"]==\"C\")|(Impute_df[\"cabin_deck\"]==\"T\")][\"HomePlanet\"].index,\"HomePlanet\"]=\"Europa\""
   ]
  },
  {
   "cell_type": "code",
   "execution_count": 25,
   "id": "e98fbba0",
   "metadata": {
    "slideshow": {
     "slide_type": "fragment"
    }
   },
   "outputs": [],
   "source": [
    "Imputed_df=SmartImputer(Impute_df,dic)"
   ]
  },
  {
   "cell_type": "code",
   "execution_count": 26,
   "id": "04622a6e",
   "metadata": {
    "slideshow": {
     "slide_type": "skip"
    }
   },
   "outputs": [],
   "source": [
    "X_train=Imputed_df.head(X_train.shape[0]).reset_index(drop=True)\n",
    "X_test=Imputed_df.tail(X_test.shape[0]).reset_index(drop=True)  "
   ]
  },
  {
   "cell_type": "markdown",
   "id": "e4a608c2",
   "metadata": {
    "slideshow": {
     "slide_type": "fragment"
    }
   },
   "source": [
    "SmartImputer is a function I wrote that uses macine learning for each feauture to predict and impute missing values. "
   ]
  },
  {
   "cell_type": "code",
   "execution_count": 27,
   "id": "0733893e",
   "metadata": {
    "slideshow": {
     "slide_type": "subslide"
    }
   },
   "outputs": [],
   "source": [
    "def SmartImputer(X,dic):\n",
    "    numerical_features=dic[\"numerics\"]\n",
    "    categorical_features=dic[\"categories\"]\n",
    "    binary_features=dic[\"binaries\"]\n",
    "    passthrough_features=dic[\"passthrough\"]\n",
    "    drop_features=dic[\"drops\"]\n",
    "    Impute_list=X.columns[X.isna().any()].tolist()\n",
    "    numeric_transformer=make_pipeline(SimpleImputer(strategy=\"median\"),StandardScaler())\n",
    "    categorical_transformer=make_pipeline(SimpleImputer(strategy=\"most_frequent\"),OneHotEncoder(handle_unknown='ignore',sparse=False,drop=\"first\"))\n",
    "    binary_transformer=make_pipeline(SimpleImputer(strategy=\"most_frequent\"),OneHotEncoder(handle_unknown='ignore',drop=\"if_binary\",sparse=False))\n",
    "    preprocessor=make_column_transformer((numeric_transformer,numerical_features),(categorical_transformer,categorical_features),(binary_transformer,binary_features),(\"passthrough\",passthrough_features),(\"drop\",drop_features),)\n",
    "    list_features_type=[\"numerical_features\",\"categorical_features\",\"binary_features\",\"passthrough_features\"]\n",
    "    pipe_rf_classifier = make_pipeline(preprocessor, RandomForestClassifier())\n",
    "    pipe_rf_regressor = make_pipeline(preprocessor, RandomForestRegressor())\n",
    "    for Impute_target in Impute_list:\n",
    "        Impute_df_train=X[X[Impute_target].notna()]\n",
    "        Impute_df_test=X[X[Impute_target].isna()]\n",
    "        Impute_X_train=Impute_df_train.drop(columns=Impute_target)\n",
    "        Impute_y_train=Impute_df_train[Impute_target]\n",
    "        Impute_X_test=Impute_df_test.drop(columns=Impute_target)\n",
    "        for types in list_features_type:\n",
    "            if Impute_target in locals()[types]:\n",
    "                locals()[types].remove(Impute_target)    \n",
    "                if types==\"numerical_features\":\n",
    "                    pipe=pipe_rf_regressor\n",
    "                else:\n",
    "                    pipe=pipe_rf_classifier  \n",
    "                if types==\"binary_features\":\n",
    "                    Impute_y_train=Impute_y_train.astype('int')\n",
    "                pipe.fit(Impute_X_train,Impute_y_train);\n",
    "                Impute_y_pred=pipe.predict(Impute_X_test)\n",
    "                Impute_y_pred=pd.DataFrame(Impute_y_pred,index=Impute_X_test.index, columns=[Impute_target])\n",
    "                X=pd.concat([pd.concat([Impute_X_train,Impute_y_train], axis=1),pd.concat([Impute_X_test,Impute_y_pred], axis=1)],axis=0).sort_index()\n",
    "                locals()[types].append(Impute_target)\n",
    "                break\n",
    "    return X"
   ]
  },
  {
   "cell_type": "markdown",
   "id": "0c6205d2",
   "metadata": {
    "slideshow": {
     "slide_type": "slide"
    }
   },
   "source": [
    "# Feature Engineering"
   ]
  },
  {
   "cell_type": "code",
   "execution_count": 28,
   "id": "8b8981d6",
   "metadata": {
    "slideshow": {
     "slide_type": "-"
    }
   },
   "outputs": [],
   "source": [
    "GroupEarth_train=(X_train[\"cabin_deck\"]==\"G\")\n",
    "GroupEuropa_train=(((X_train[\"cabin_deck\"]==\"A\")|(X_train[\"cabin_deck\"]==\"B\")|(X_train[\"cabin_deck\"]==\"C\")|(X_train[\"cabin_deck\"]==\"T\")))\n",
    "GroupMulti_train=(((X_train[\"cabin_deck\"]==\"D\")|(X_train[\"cabin_deck\"]==\"E\")|(X_train[\"cabin_deck\"]==\"F\")))\n",
    "tot_train=X_train[\"RoomService\"]+X_train[\"FoodCourt\"]+X_train[\"ShoppingMall\"]+X_train[\"Spa\"]+X_train[\"VRDeck\"]+1 #+1 to avoid zero division\n",
    "cabin_CS_train=(X_train[\"cabin_deck\"]+X_train[\"cabin_side\"])==\"CS\"\n",
    "spa_Europa_train=(X_train[\"Spa\"]/tot_train)*(X_train[\"HomePlanet\"]==\"Europa\")*1"
   ]
  },
  {
   "cell_type": "code",
   "execution_count": 29,
   "id": "36751820",
   "metadata": {
    "slideshow": {
     "slide_type": "skip"
    }
   },
   "outputs": [],
   "source": [
    "GroupEarth_test=(X_test[\"cabin_deck\"]==\"G\")\n",
    "GroupEuropa_test=(((X_test[\"cabin_deck\"]==\"A\")|(X_test[\"cabin_deck\"]==\"B\")|(X_test[\"cabin_deck\"]==\"C\")|(X_test[\"cabin_deck\"]==\"T\")))\n",
    "GroupMulti_test=(((X_test[\"cabin_deck\"]==\"D\")|(X_test[\"cabin_deck\"]==\"E\")|(X_test[\"cabin_deck\"]==\"F\")))\n",
    "tot_test=X_test[\"RoomService\"]+X_test[\"FoodCourt\"]+X_test[\"ShoppingMall\"]+X_test[\"Spa\"]+X_test[\"VRDeck\"]+1\n",
    "cabin_CS_test=(X_test[\"cabin_deck\"]+X_test[\"cabin_side\"])==\"CS\"\n",
    "spa_Europa_test=(X_test[\"Spa\"]/tot_train)*(X_test[\"HomePlanet\"]==\"Europa\")*1\n",
    "\n",
    "X_train.insert(0,\"TotalSpent\",np.log(tot_train))\n",
    "X_train.insert(0,\"RoomService/tot\",X_train[\"RoomService\"]/tot_train)\n",
    "X_train.insert(0,\"FoodCourt/tot\",X_train[\"FoodCourt\"]/tot_train)\n",
    "X_train.insert(0,\"ShoppingMall/tot\",X_train[\"ShoppingMall\"]/tot_train)\n",
    "X_train.insert(0,\"Spa/tot\",X_train[\"Spa\"]/tot_train)\n",
    "X_train.insert(0,\"VRDeck/tot\",X_train[\"VRDeck\"]/tot_train)\n",
    "X_train.insert(0,\"GroupEarth\",GroupEarth_train)\n",
    "X_train.insert(0,\"GroupEuropa\",GroupEuropa_train)\n",
    "X_train.insert(0,\"GroupMulti\",GroupMulti_train)\n",
    "X_train.insert(0,\"cabin_CS\",cabin_CS_train)\n",
    "X_train.insert(0,\"spa_Europa\",spa_Europa_train)\n",
    "\n",
    "\n",
    "X_test.insert(0,\"TotalSpent\",np.log(tot_test))\n",
    "X_test.insert(0,\"RoomService/tot\",X_test[\"RoomService\"]/tot_test)\n",
    "X_test.insert(0,\"FoodCourt/tot\",X_test[\"FoodCourt\"]/tot_test)\n",
    "X_test.insert(0,\"ShoppingMall/tot\",X_test[\"ShoppingMall\"]/tot_test)\n",
    "X_test.insert(0,\"Spa/tot\",X_test[\"Spa\"]/tot_test)\n",
    "X_test.insert(0,\"VRDeck/tot\",X_test[\"VRDeck\"]/tot_test)\n",
    "X_test.insert(0,\"GroupEarth\",GroupEarth_test)\n",
    "X_test.insert(0,\"GroupEuropa\",GroupEuropa_test)\n",
    "X_test.insert(0,\"GroupMulti\",GroupMulti_test)\n",
    "X_test.insert(0,\"cabin_CS\",cabin_CS_test)\n",
    "X_test.insert(0,\"spa_Europa\",spa_Europa_test)\n"
   ]
  },
  {
   "cell_type": "code",
   "execution_count": 30,
   "id": "218ce803",
   "metadata": {
    "slideshow": {
     "slide_type": "skip"
    }
   },
   "outputs": [],
   "source": [
    "numerical_features=numerical_features+[\"TotalSpent\",\"RoomService/tot\",\"FoodCourt/tot\",\"ShoppingMall/tot\",\"Spa/tot\",\"VRDeck/tot\",\"spa_Europa\"]\n",
    "binary_features=binary_features+[\"GroupEarth\",\"GroupEuropa\",\"GroupMulti\",\"cabin_CS\"]\n",
    "\n",
    "numeric_transformer=make_pipeline(SimpleImputer(strategy=\"median\"),StandardScaler())\n",
    "categorical_transformer=make_pipeline(SimpleImputer(strategy=\"most_frequent\"),OneHotEncoder(handle_unknown='ignore',sparse=False,drop=\"first\"))\n",
    "binary_transformer=make_pipeline(SimpleImputer(strategy=\"most_frequent\"),OneHotEncoder(handle_unknown='ignore',drop=\"if_binary\",sparse=False))\n",
    "    \n",
    "preprocessor=make_column_transformer(\n",
    "    (numeric_transformer,numerical_features),\n",
    "    (categorical_transformer,categorical_features),\n",
    "    (binary_transformer,binary_features),\n",
    "    (\"passthrough\",passthrough_features),\n",
    "    (\"drop\",drop_features),\n",
    ")\n",
    "\n",
    "X_train_transformed=preprocessor.fit_transform(X_train)\n",
    "\n",
    "column_names=(\n",
    "    numerical_features\n",
    "    +preprocessor.named_transformers_[\"pipeline-2\"].named_steps[\"onehotencoder\"].get_feature_names_out(categorical_features).tolist()\n",
    "    +preprocessor.named_transformers_[\"pipeline-3\"].named_steps[\"onehotencoder\"].get_feature_names_out(binary_features).tolist()\n",
    "    +passthrough_features\n",
    ")"
   ]
  },
  {
   "cell_type": "code",
   "execution_count": 31,
   "id": "a4e02171",
   "metadata": {
    "slideshow": {
     "slide_type": "slide"
    }
   },
   "outputs": [
    {
     "data": {
      "text/plain": [
       "array(['Age', 'RoomService', 'FoodCourt', 'ShoppingMall', 'Spa', 'VRDeck',\n",
       "       'cabin_number', 'TotalSpent', 'RoomService/tot', 'FoodCourt/tot',\n",
       "       'ShoppingMall/tot', 'Spa/tot', 'VRDeck/tot', 'spa_Europa',\n",
       "       'Family_2', 'Family_3', 'Family_4', 'Family_5', 'Family_6',\n",
       "       'Family_7', 'Family_8', 'HomePlanet_Europa', 'HomePlanet_Mars',\n",
       "       'Destination_PSO J318.5-22', 'Destination_TRAPPIST-1e',\n",
       "       'cabin_deck_B', 'cabin_deck_C', 'cabin_deck_D', 'cabin_deck_E',\n",
       "       'cabin_deck_F', 'cabin_deck_G', 'cabin_deck_T', 'cabin_side_S',\n",
       "       'CryoSleep_1', 'VIP_1', 'GroupEarth_True', 'GroupEuropa_True',\n",
       "       'GroupMulti_True', 'cabin_CS_True'], dtype='<U25')"
      ]
     },
     "execution_count": 31,
     "metadata": {},
     "output_type": "execute_result"
    }
   ],
   "source": [
    "np.transpose(column_names)"
   ]
  },
  {
   "cell_type": "code",
   "execution_count": 32,
   "id": "03394457",
   "metadata": {
    "slideshow": {
     "slide_type": "skip"
    }
   },
   "outputs": [],
   "source": [
    "X_train_transformed=pd.DataFrame(X_train_transformed,index=X_train.index, columns=column_names)"
   ]
  },
  {
   "cell_type": "markdown",
   "id": "53402408",
   "metadata": {
    "slideshow": {
     "slide_type": "slide"
    }
   },
   "source": [
    "## Heat Map"
   ]
  },
  {
   "cell_type": "code",
   "execution_count": 33,
   "id": "cf631f17",
   "metadata": {
    "slideshow": {
     "slide_type": "skip"
    }
   },
   "outputs": [
    {
     "data": {
      "text/plain": [
       "<Figure size 1800x1800 with 0 Axes>"
      ]
     },
     "metadata": {},
     "output_type": "display_data"
    }
   ],
   "source": [
    "cor = pd.concat((y_train, X_train_transformed), axis=1).corr()\n",
    "plt.figure(figsize=(25, 25))\n",
    "sns.set(font_scale=1)"
   ]
  },
  {
   "cell_type": "code",
   "execution_count": 34,
   "id": "3aa8d202",
   "metadata": {
    "slideshow": {
     "slide_type": "-"
    }
   },
   "outputs": [
    {
     "data": {
      "image/png": "[encoded data removed]",
      "text/plain": [
       "<Figure size 576x396 with 2 Axes>"
      ]
     },
     "metadata": {},
     "output_type": "display_data"
    }
   ],
   "source": [
    "sns.heatmap(cor, annot=True, cmap=plt.cm.Blues);"
   ]
  },
  {
   "cell_type": "markdown",
   "id": "bfffe70e",
   "metadata": {
    "slideshow": {
     "slide_type": "slide"
    }
   },
   "source": [
    "## Linear model and features importance"
   ]
  },
  {
   "cell_type": "code",
   "execution_count": 35,
   "id": "be4d1694",
   "metadata": {
    "slideshow": {
     "slide_type": "-"
    }
   },
   "outputs": [
    {
     "data": {
      "text/html": [
       "<div>\n",
       "<style scoped>\n",
       "    .dataframe tbody tr th:only-of-type {\n",
       "        vertical-align: middle;\n",
       "    }\n",
       "\n",
       "    .dataframe tbody tr th {\n",
       "        vertical-align: top;\n",
       "    }\n",
       "\n",
       "    .dataframe thead th {\n",
       "        text-align: right;\n",
       "    }\n",
       "</style>\n",
       "<table border=\"1\" class=\"dataframe\">\n",
       "  <thead>\n",
       "    <tr style=\"text-align: right;\">\n",
       "      <th></th>\n",
       "      <th>DummyClassifier</th>\n",
       "      <th>LogisticRegression</th>\n",
       "      <th>SVC</th>\n",
       "      <th>LogisticRegression Improv</th>\n",
       "      <th>SVC Improv</th>\n",
       "    </tr>\n",
       "  </thead>\n",
       "  <tbody>\n",
       "    <tr>\n",
       "      <th>fit_time</th>\n",
       "      <td>0.0235 (+/- 0.0037)</td>\n",
       "      <td>0.0355 (+/- 0.0032)</td>\n",
       "      <td>1.2808 (+/- 0.0580)</td>\n",
       "      <td>0.1445 (+/- 0.0127)</td>\n",
       "      <td>1.3764 (+/- 0.0192)</td>\n",
       "    </tr>\n",
       "    <tr>\n",
       "      <th>score_time</th>\n",
       "      <td>0.0073 (+/- 0.0007)</td>\n",
       "      <td>0.0075 (+/- 0.0005)</td>\n",
       "      <td>0.5875 (+/- 0.0945)</td>\n",
       "      <td>0.0138 (+/- 0.0008)</td>\n",
       "      <td>0.8988 (+/- 0.0669)</td>\n",
       "    </tr>\n",
       "    <tr>\n",
       "      <th>test_accuracy</th>\n",
       "      <td>0.5036 (+/- 0.0002)</td>\n",
       "      <td>0.7857 (+/- 0.0055)</td>\n",
       "      <td>0.7891 (+/- 0.0105)</td>\n",
       "      <td>0.7919 (+/- 0.0121)</td>\n",
       "      <td>0.8041 (+/- 0.0121)</td>\n",
       "    </tr>\n",
       "    <tr>\n",
       "      <th>train_accuracy</th>\n",
       "      <td>0.5036 (+/- 0.0000)</td>\n",
       "      <td>0.7867 (+/- 0.0023)</td>\n",
       "      <td>0.7947 (+/- 0.0022)</td>\n",
       "      <td>0.8004 (+/- 0.0036)</td>\n",
       "      <td>0.8155 (+/- 0.0031)</td>\n",
       "    </tr>\n",
       "  </tbody>\n",
       "</table>\n",
       "</div>"
      ],
      "text/plain": [
       "                    DummyClassifier   LogisticRegression                  SVC  \\\n",
       "fit_time        0.0235 (+/- 0.0037)  0.0355 (+/- 0.0032)  1.2808 (+/- 0.0580)   \n",
       "score_time      0.0073 (+/- 0.0007)  0.0075 (+/- 0.0005)  0.5875 (+/- 0.0945)   \n",
       "test_accuracy   0.5036 (+/- 0.0002)  0.7857 (+/- 0.0055)  0.7891 (+/- 0.0105)   \n",
       "train_accuracy  0.5036 (+/- 0.0000)  0.7867 (+/- 0.0023)  0.7947 (+/- 0.0022)   \n",
       "\n",
       "               LogisticRegression Improv           SVC Improv  \n",
       "fit_time             0.1445 (+/- 0.0127)  1.3764 (+/- 0.0192)  \n",
       "score_time           0.0138 (+/- 0.0008)  0.8988 (+/- 0.0669)  \n",
       "test_accuracy        0.7919 (+/- 0.0121)  0.8041 (+/- 0.0121)  \n",
       "train_accuracy       0.8004 (+/- 0.0036)  0.8155 (+/- 0.0031)  "
      ]
     },
     "execution_count": 35,
     "metadata": {},
     "output_type": "execute_result"
    }
   ],
   "source": [
    "y_train=np.ravel(y_train)*1\n",
    "pipe_lr=make_pipeline(preprocessor,LogisticRegression(max_iter=2000))\n",
    "scores[\"LogisticRegression Improv\"]=mean_std_cross_val_scores(pipe_lr,  X_train,y_train,scoring=scoring,cv=5,return_train_score=True)\n",
    "pipe_svc_rbf = make_pipeline(preprocessor, SVC(kernel='rbf',max_iter=20000))\n",
    "scores[\"SVC Improv\"]=mean_std_cross_val_scores(pipe_svc_rbf,  X_train,y_train,scoring=scoring,cv=5,return_train_score=True)\n",
    "pd.DataFrame(scores)"
   ]
  },
  {
   "cell_type": "code",
   "execution_count": 36,
   "id": "fe4cdc65",
   "metadata": {},
   "outputs": [
    {
     "data": {
      "text/html": [
       "<div>\n",
       "<style scoped>\n",
       "    .dataframe tbody tr th:only-of-type {\n",
       "        vertical-align: middle;\n",
       "    }\n",
       "\n",
       "    .dataframe tbody tr th {\n",
       "        vertical-align: top;\n",
       "    }\n",
       "\n",
       "    .dataframe thead th {\n",
       "        text-align: right;\n",
       "    }\n",
       "</style>\n",
       "<table border=\"1\" class=\"dataframe\">\n",
       "  <thead>\n",
       "    <tr style=\"text-align: right;\">\n",
       "      <th></th>\n",
       "      <th>cabin_CS_True</th>\n",
       "      <th>HomePlanet_Europa</th>\n",
       "      <th>cabin_deck_B</th>\n",
       "      <th>cabin_deck_C</th>\n",
       "      <th>CryoSleep_1</th>\n",
       "      <th>FoodCourt</th>\n",
       "      <th>cabin_side_S</th>\n",
       "      <th>HomePlanet_Mars</th>\n",
       "      <th>ShoppingMall</th>\n",
       "      <th>cabin_deck_D</th>\n",
       "      <th>...</th>\n",
       "      <th>GroupEuropa_True</th>\n",
       "      <th>cabin_deck_T</th>\n",
       "      <th>VIP_1</th>\n",
       "      <th>Destination_PSO J318.5-22</th>\n",
       "      <th>Destination_TRAPPIST-1e</th>\n",
       "      <th>TotalSpent</th>\n",
       "      <th>Family_8</th>\n",
       "      <th>RoomService</th>\n",
       "      <th>Spa</th>\n",
       "      <th>VRDeck</th>\n",
       "    </tr>\n",
       "  </thead>\n",
       "  <tbody>\n",
       "    <tr>\n",
       "      <th>Coefficient</th>\n",
       "      <td>3.271189</td>\n",
       "      <td>1.676866</td>\n",
       "      <td>1.129281</td>\n",
       "      <td>0.955927</td>\n",
       "      <td>0.885049</td>\n",
       "      <td>0.688944</td>\n",
       "      <td>0.52641</td>\n",
       "      <td>0.379835</td>\n",
       "      <td>0.330429</td>\n",
       "      <td>0.322492</td>\n",
       "      <td>...</td>\n",
       "      <td>-0.290908</td>\n",
       "      <td>-0.312751</td>\n",
       "      <td>-0.321238</td>\n",
       "      <td>-0.378767</td>\n",
       "      <td>-0.448877</td>\n",
       "      <td>-0.464331</td>\n",
       "      <td>-0.496357</td>\n",
       "      <td>-0.542168</td>\n",
       "      <td>-1.85932</td>\n",
       "      <td>-1.962567</td>\n",
       "    </tr>\n",
       "  </tbody>\n",
       "</table>\n",
       "<p>1 rows × 39 columns</p>\n",
       "</div>"
      ],
      "text/plain": [
       "             cabin_CS_True  HomePlanet_Europa  cabin_deck_B  cabin_deck_C  \\\n",
       "Coefficient       3.271189           1.676866      1.129281      0.955927   \n",
       "\n",
       "             CryoSleep_1  FoodCourt  cabin_side_S  HomePlanet_Mars  \\\n",
       "Coefficient     0.885049   0.688944       0.52641         0.379835   \n",
       "\n",
       "             ShoppingMall  cabin_deck_D  ...  GroupEuropa_True  cabin_deck_T  \\\n",
       "Coefficient      0.330429      0.322492  ...         -0.290908     -0.312751   \n",
       "\n",
       "                VIP_1  Destination_PSO J318.5-22  Destination_TRAPPIST-1e  \\\n",
       "Coefficient -0.321238                  -0.378767                -0.448877   \n",
       "\n",
       "             TotalSpent  Family_8  RoomService      Spa    VRDeck  \n",
       "Coefficient   -0.464331 -0.496357    -0.542168 -1.85932 -1.962567  \n",
       "\n",
       "[1 rows x 39 columns]"
      ]
     },
     "execution_count": 36,
     "metadata": {},
     "output_type": "execute_result"
    }
   ],
   "source": [
    "pipe_lr.fit(X_train,y_train)\n",
    "lr_coefs = pd.DataFrame(pipe_lr[1].coef_.T, index=column_names, columns=[\"Coefficient\"])\n",
    "lr_coefs.sort_values(by=[\"Coefficient\"],ascending=False).T"
   ]
  },
  {
   "cell_type": "markdown",
   "id": "e975c2df",
   "metadata": {
    "slideshow": {
     "slide_type": "slide"
    }
   },
   "source": [
    "# Polynomial Features and Feature Selection"
   ]
  },
  {
   "cell_type": "code",
   "execution_count": 37,
   "id": "2008253c",
   "metadata": {
    "slideshow": {
     "slide_type": "fragment"
    }
   },
   "outputs": [],
   "source": [
    "poly_transformer = PolynomialFeatures(\n",
    "    degree=2, interaction_only=True, include_bias=True\n",
    ")"
   ]
  },
  {
   "cell_type": "code",
   "execution_count": 38,
   "id": "d23eae9e",
   "metadata": {
    "slideshow": {
     "slide_type": "fragment"
    }
   },
   "outputs": [],
   "source": [
    "feature_selector=RFECV(LogisticRegression(max_iter=2000), cv=3,min_features_to_select=5)"
   ]
  },
  {
   "cell_type": "code",
   "execution_count": 39,
   "id": "77a9c1fa",
   "metadata": {
    "slideshow": {
     "slide_type": "skip"
    }
   },
   "outputs": [],
   "source": [
    "pipe_lr_poly_fs = make_pipeline(preprocessor ,poly_transformer,feature_selector,LogisticRegression(max_iter=2000))\n",
    "pipe_lr_poly_fs.fit(X_train,y_train);\n",
    "features_poly = pipe_lr_poly_fs.named_steps[\"polynomialfeatures\"].get_feature_names_out(column_names)\n",
    "selected_features_poly=np.array(features_poly)[pipe_lr_poly_fs.named_steps[\"rfecv\"].support_]\n",
    "lr_poly_fs_coefs = pd.DataFrame(pipe_lr_poly_fs.named_steps[\"logisticregression\"].coef_.T, index=selected_features_poly, columns=[\"Coefficient\"])\n",
    "import warnings\n",
    "warnings.simplefilter(action=\"ignore\", category=DeprecationWarning)\n",
    "warnings.simplefilter(action=\"ignore\", category=UserWarning)"
   ]
  },
  {
   "cell_type": "code",
   "execution_count": 40,
   "id": "b57d0ece",
   "metadata": {
    "slideshow": {
     "slide_type": "-"
    }
   },
   "outputs": [
    {
     "data": {
      "text/html": [
       "<div>\n",
       "<style scoped>\n",
       "    .dataframe tbody tr th:only-of-type {\n",
       "        vertical-align: middle;\n",
       "    }\n",
       "\n",
       "    .dataframe tbody tr th {\n",
       "        vertical-align: top;\n",
       "    }\n",
       "\n",
       "    .dataframe thead th {\n",
       "        text-align: right;\n",
       "    }\n",
       "</style>\n",
       "<table border=\"1\" class=\"dataframe\">\n",
       "  <thead>\n",
       "    <tr style=\"text-align: right;\">\n",
       "      <th></th>\n",
       "      <th>Coefficient</th>\n",
       "    </tr>\n",
       "  </thead>\n",
       "  <tbody>\n",
       "    <tr>\n",
       "      <th>VRDeck Spa/tot</th>\n",
       "      <td>2.344989</td>\n",
       "    </tr>\n",
       "    <tr>\n",
       "      <th>HomePlanet_Europa CryoSleep_1</th>\n",
       "      <td>2.057141</td>\n",
       "    </tr>\n",
       "    <tr>\n",
       "      <th>VRDeck HomePlanet_Europa</th>\n",
       "      <td>1.834718</td>\n",
       "    </tr>\n",
       "    <tr>\n",
       "      <th>cabin_deck_B cabin_side_S</th>\n",
       "      <td>1.566287</td>\n",
       "    </tr>\n",
       "    <tr>\n",
       "      <th>FoodCourt/tot cabin_CS_True</th>\n",
       "      <td>1.440817</td>\n",
       "    </tr>\n",
       "    <tr>\n",
       "      <th>...</th>\n",
       "      <td>...</td>\n",
       "    </tr>\n",
       "    <tr>\n",
       "      <th>TotalSpent GroupMulti_True</th>\n",
       "      <td>-1.411455</td>\n",
       "    </tr>\n",
       "    <tr>\n",
       "      <th>RoomService/tot VIP_1</th>\n",
       "      <td>-1.465060</td>\n",
       "    </tr>\n",
       "    <tr>\n",
       "      <th>RoomService/tot cabin_deck_C</th>\n",
       "      <td>-1.577028</td>\n",
       "    </tr>\n",
       "    <tr>\n",
       "      <th>Spa/tot HomePlanet_Europa</th>\n",
       "      <td>-1.984040</td>\n",
       "    </tr>\n",
       "    <tr>\n",
       "      <th>VRDeck</th>\n",
       "      <td>-2.645148</td>\n",
       "    </tr>\n",
       "  </tbody>\n",
       "</table>\n",
       "<p>67 rows × 1 columns</p>\n",
       "</div>"
      ],
      "text/plain": [
       "                               Coefficient\n",
       "VRDeck Spa/tot                    2.344989\n",
       "HomePlanet_Europa CryoSleep_1     2.057141\n",
       "VRDeck HomePlanet_Europa          1.834718\n",
       "cabin_deck_B cabin_side_S         1.566287\n",
       "FoodCourt/tot cabin_CS_True       1.440817\n",
       "...                                    ...\n",
       "TotalSpent GroupMulti_True       -1.411455\n",
       "RoomService/tot VIP_1            -1.465060\n",
       "RoomService/tot cabin_deck_C     -1.577028\n",
       "Spa/tot HomePlanet_Europa        -1.984040\n",
       "VRDeck                           -2.645148\n",
       "\n",
       "[67 rows x 1 columns]"
      ]
     },
     "execution_count": 40,
     "metadata": {},
     "output_type": "execute_result"
    }
   ],
   "source": [
    "lr_poly_fs_coefs.sort_values(by=[\"Coefficient\"],ascending=False)"
   ]
  },
  {
   "cell_type": "markdown",
   "id": "2c6c48a6",
   "metadata": {
    "slideshow": {
     "slide_type": "slide"
    }
   },
   "source": [
    "## Different classifiers"
   ]
  },
  {
   "cell_type": "code",
   "execution_count": 41,
   "id": "e943f32d",
   "metadata": {
    "slideshow": {
     "slide_type": "fragment"
    }
   },
   "outputs": [],
   "source": [
    "pipe_lr = make_pipeline(preprocessor, LogisticRegression(max_iter=2000))\n",
    "pipe_r = make_pipeline(preprocessor, RidgeClassifier(max_iter=2000))\n",
    "pipe_knn = make_pipeline(preprocessor, KNeighborsClassifier())\n",
    "pipe_svc = make_pipeline(preprocessor, SVC(kernel='linear',max_iter=20000))\n",
    "pipe_svc_rbf = make_pipeline(preprocessor, SVC(kernel='rbf',max_iter=20000))\n",
    "pipe_dt = make_pipeline(preprocessor, DecisionTreeClassifier())\n",
    "pipe_rf = make_pipeline(preprocessor, RandomForestClassifier())\n",
    "pipe_xgb = make_pipeline(preprocessor, XGBClassifier(verbosity=0,use_label_encoder=False))\n",
    "pipe_lgbm = make_pipeline(preprocessor, LGBMClassifier())\n",
    "pipe_catboost = make_pipeline(preprocessor, CatBoostClassifier(verbose=0))\n",
    "\n",
    "classifiers = {\n",
    "    \"logistic regression\": pipe_lr,\n",
    "    \"ridge classifier\": pipe_r,\n",
    "    \"knn\": pipe_knn,\n",
    "    \"svc\": pipe_svc,\n",
    "    \"svcRBF\": pipe_svc_rbf,\n",
    "    \"decision tree\": pipe_dt,\n",
    "    \"random forest\": pipe_rf,\n",
    "    \"XGBoost\": pipe_xgb,\n",
    "    \"LightGBM\": pipe_lgbm,\n",
    "    \"CatBoost\": pipe_catboost,\n",
    "}"
   ]
  },
  {
   "cell_type": "markdown",
   "id": "228c7d94",
   "metadata": {
    "slideshow": {
     "slide_type": "slide"
    }
   },
   "source": [
    "# Hyperparameter optimization\n",
    "\n",
    "We use RandomizedSearchCV to tune all classifiers. "
   ]
  },
  {
   "cell_type": "code",
   "execution_count": 42,
   "id": "bf374c99",
   "metadata": {
    "scrolled": true,
    "slideshow": {
     "slide_type": "skip"
    }
   },
   "outputs": [
    {
     "name": "stderr",
     "output_type": "stream",
     "text": [
      "\n",
      "10 fits failed out of a total of 100.\n",
      "The score on these train-test partitions for these parameters will be set to nan.\n",
      "If these failures are not expected, you can try to debug them by setting error_score='raise'.\n",
      "\n",
      "Below are more details about the failures:\n",
      "--------------------------------------------------------------------------------\n",
      "10 fits failed with the following error:\n",
      "Traceback (most recent call last):\n",
      "  File \"/Users/seyedarmanabtahi/opt/anaconda3/envs/cpsc330/lib/python3.9/site-packages/sklearn/model_selection/_validation.py\", line 680, in _fit_and_score\n",
      "    estimator.fit(X_train, y_train, **fit_params)\n",
      "  File \"/Users/seyedarmanabtahi/opt/anaconda3/envs/cpsc330/lib/python3.9/site-packages/sklearn/pipeline.py\", line 394, in fit\n",
      "    self._final_estimator.fit(Xt, y, **fit_params_last_step)\n",
      "  File \"/Users/seyedarmanabtahi/opt/anaconda3/envs/cpsc330/lib/python3.9/site-packages/catboost/core.py\", line 4716, in fit\n",
      "    self._fit(X, y, cat_features, text_features, embedding_features, None, sample_weight, None, None, None, None, baseline, use_best_model,\n",
      "  File \"/Users/seyedarmanabtahi/opt/anaconda3/envs/cpsc330/lib/python3.9/site-packages/catboost/core.py\", line 2021, in _fit\n",
      "    train_params = self._prepare_train_params(\n",
      "  File \"/Users/seyedarmanabtahi/opt/anaconda3/envs/cpsc330/lib/python3.9/site-packages/catboost/core.py\", line 1953, in _prepare_train_params\n",
      "    _check_train_params(params)\n",
      "  File \"_catboost.pyx\", line 5839, in _catboost._check_train_params\n",
      "  File \"_catboost.pyx\", line 5858, in _catboost._check_train_params\n",
      "_catboost.CatBoostError: catboost/private/libs/options/oblivious_tree_options.cpp:122: Maximum tree depth is 16\n",
      "\n",
      "/Users/seyedarmanabtahi/opt/anaconda3/envs/cpsc330/lib/python3.9/site-packages/xgboost/compat.py:36: FutureWarning: pandas.Int64Index is deprecated and will be removed from pandas in a future version. Use pandas.Index with the appropriate dtype instead.\n",
      "  from pandas import MultiIndex, Int64Index\n",
      "/Users/seyedarmanabtahi/opt/anaconda3/envs/cpsc330/lib/python3.9/site-packages/xgboost/compat.py:36: FutureWarning: pandas.Int64Index is deprecated and will be removed from pandas in a future version. Use pandas.Index with the appropriate dtype instead.\n",
      "  from pandas import MultiIndex, Int64Index\n",
      "/Users/seyedarmanabtahi/opt/anaconda3/envs/cpsc330/lib/python3.9/site-packages/xgboost/compat.py:36: FutureWarning: pandas.Int64Index is deprecated and will be removed from pandas in a future version. Use pandas.Index with the appropriate dtype instead.\n",
      "  from pandas import MultiIndex, Int64Index\n",
      "/Users/seyedarmanabtahi/opt/anaconda3/envs/cpsc330/lib/python3.9/site-packages/xgboost/compat.py:36: FutureWarning: pandas.Int64Index is deprecated and will be removed from pandas in a future version. Use pandas.Index with the appropriate dtype instead.\n",
      "  from pandas import MultiIndex, Int64Index\n",
      "/Users/seyedarmanabtahi/opt/anaconda3/envs/cpsc330/lib/python3.9/site-packages/xgboost/compat.py:36: FutureWarning: pandas.Int64Index is deprecated and will be removed from pandas in a future version. Use pandas.Index with the appropriate dtype instead.\n",
      "  from pandas import MultiIndex, Int64Index\n",
      "/Users/seyedarmanabtahi/opt/anaconda3/envs/cpsc330/lib/python3.9/site-packages/xgboost/compat.py:36: FutureWarning: pandas.Int64Index is deprecated and will be removed from pandas in a future version. Use pandas.Index with the appropriate dtype instead.\n",
      "  from pandas import MultiIndex, Int64Index\n",
      "/Users/seyedarmanabtahi/opt/anaconda3/envs/cpsc330/lib/python3.9/site-packages/xgboost/compat.py:36: FutureWarning: pandas.Int64Index is deprecated and will be removed from pandas in a future version. Use pandas.Index with the appropriate dtype instead.\n",
      "  from pandas import MultiIndex, Int64Index\n",
      "/Users/seyedarmanabtahi/opt/anaconda3/envs/cpsc330/lib/python3.9/site-packages/xgboost/compat.py:36: FutureWarning: pandas.Int64Index is deprecated and will be removed from pandas in a future version. Use pandas.Index with the appropriate dtype instead.\n",
      "  from pandas import MultiIndex, Int64Index\n",
      "/Users/seyedarmanabtahi/opt/anaconda3/envs/cpsc330/lib/python3.9/site-packages/xgboost/compat.py:36: FutureWarning: pandas.Int64Index is deprecated and will be removed from pandas in a future version. Use pandas.Index with the appropriate dtype instead.\n",
      "  from pandas import MultiIndex, Int64Index\n",
      "/Users/seyedarmanabtahi/opt/anaconda3/envs/cpsc330/lib/python3.9/site-packages/xgboost/compat.py:36: FutureWarning: pandas.Int64Index is deprecated and will be removed from pandas in a future version. Use pandas.Index with the appropriate dtype instead.\n",
      "  from pandas import MultiIndex, Int64Index\n",
      "/Users/seyedarmanabtahi/opt/anaconda3/envs/cpsc330/lib/python3.9/site-packages/xgboost/compat.py:36: FutureWarning: pandas.Int64Index is deprecated and will be removed from pandas in a future version. Use pandas.Index with the appropriate dtype instead.\n",
      "  from pandas import MultiIndex, Int64Index\n",
      "/Users/seyedarmanabtahi/opt/anaconda3/envs/cpsc330/lib/python3.9/site-packages/xgboost/compat.py:36: FutureWarning: pandas.Int64Index is deprecated and will be removed from pandas in a future version. Use pandas.Index with the appropriate dtype instead.\n",
      "  from pandas import MultiIndex, Int64Index\n",
      "/Users/seyedarmanabtahi/opt/anaconda3/envs/cpsc330/lib/python3.9/site-packages/sklearn/svm/_base.py:284: ConvergenceWarning: Solver terminated early (max_iter=20000).  Consider pre-processing your data with StandardScaler or MinMaxScaler.\n",
      "  warnings.warn(\n",
      "/Users/seyedarmanabtahi/opt/anaconda3/envs/cpsc330/lib/python3.9/site-packages/sklearn/svm/_base.py:284: ConvergenceWarning: Solver terminated early (max_iter=20000).  Consider pre-processing your data with StandardScaler or MinMaxScaler.\n",
      "  warnings.warn(\n",
      "/Users/seyedarmanabtahi/opt/anaconda3/envs/cpsc330/lib/python3.9/site-packages/sklearn/svm/_base.py:284: ConvergenceWarning: Solver terminated early (max_iter=20000).  Consider pre-processing your data with StandardScaler or MinMaxScaler.\n",
      "  warnings.warn(\n",
      "/Users/seyedarmanabtahi/opt/anaconda3/envs/cpsc330/lib/python3.9/site-packages/sklearn/svm/_base.py:284: ConvergenceWarning: Solver terminated early (max_iter=20000).  Consider pre-processing your data with StandardScaler or MinMaxScaler.\n",
      "  warnings.warn(\n",
      "/Users/seyedarmanabtahi/opt/anaconda3/envs/cpsc330/lib/python3.9/site-packages/sklearn/svm/_base.py:284: ConvergenceWarning: Solver terminated early (max_iter=20000).  Consider pre-processing your data with StandardScaler or MinMaxScaler.\n",
      "  warnings.warn(\n",
      "/Users/seyedarmanabtahi/opt/anaconda3/envs/cpsc330/lib/python3.9/site-packages/sklearn/svm/_base.py:284: ConvergenceWarning: Solver terminated early (max_iter=20000).  Consider pre-processing your data with StandardScaler or MinMaxScaler.\n",
      "  warnings.warn(\n",
      "/Users/seyedarmanabtahi/opt/anaconda3/envs/cpsc330/lib/python3.9/site-packages/sklearn/svm/_base.py:284: ConvergenceWarning: Solver terminated early (max_iter=20000).  Consider pre-processing your data with StandardScaler or MinMaxScaler.\n",
      "  warnings.warn(\n",
      "/Users/seyedarmanabtahi/opt/anaconda3/envs/cpsc330/lib/python3.9/site-packages/sklearn/svm/_base.py:284: ConvergenceWarning: Solver terminated early (max_iter=20000).  Consider pre-processing your data with StandardScaler or MinMaxScaler.\n",
      "  warnings.warn(\n",
      "/Users/seyedarmanabtahi/opt/anaconda3/envs/cpsc330/lib/python3.9/site-packages/sklearn/svm/_base.py:284: ConvergenceWarning: Solver terminated early (max_iter=20000).  Consider pre-processing your data with StandardScaler or MinMaxScaler.\n",
      "  warnings.warn(\n",
      "/Users/seyedarmanabtahi/opt/anaconda3/envs/cpsc330/lib/python3.9/site-packages/sklearn/svm/_base.py:284: ConvergenceWarning: Solver terminated early (max_iter=20000).  Consider pre-processing your data with StandardScaler or MinMaxScaler.\n",
      "  warnings.warn(\n"
     ]
    }
   ],
   "source": [
    "### 1. LogosticRegresion\n",
    "\n",
    "param_dist = {\n",
    "    \"logisticregression__C\": loguniform(0.005,100),\n",
    "}\n",
    "\n",
    "random_search_lr = RandomizedSearchCV(pipe_lr, param_distributions=param_dist, n_jobs=-1, n_iter=20, cv=5,scoring=\"accuracy\",random_state=123)\n",
    "random_search_lr.fit(X_train, y_train);\n",
    "\n",
    "\n",
    "### 2. CatBoost\n",
    "param_dist = {\n",
    "    \"catboostclassifier__max_depth\": [2,3,4,5,6,7,8,9,10,20],\n",
    "    \"catboostclassifier__learning_rate\": [0.05, 0.1,0.2,0.5],\n",
    "    \"catboostclassifier__n_estimators\": [5,10,20,50,75,100,150,200],\n",
    "    \"catboostclassifier__loss_function\": [\"MultiClass\",\"Logloss\",\"CrossEntropy\"],\n",
    "}\n",
    "random_search_cb = RandomizedSearchCV(pipe_catboost, param_distributions=param_dist, n_jobs=-1, n_iter=20, cv=5,scoring=\"accuracy\",random_state=123)\n",
    "random_search_cb.fit(X_train, y_train);\n",
    "\n",
    "### 3. Random Forest\n",
    "param_dist = {\n",
    "    \"randomforestclassifier__n_estimators\": [5,10,20,50,75,100,150,200,500],\n",
    "    \"randomforestclassifier__max_depth\": [5,10,20,50,75,100,150,200],\n",
    "    \"randomforestclassifier__class_weight\": [\"balanced\"],\n",
    "    \"randomforestclassifier__max_features\": [\"auto\"],\n",
    "    \"randomforestclassifier__bootstrap\": [True],\n",
    "    \n",
    "}\n",
    "random_search_rf = RandomizedSearchCV(pipe_rf, param_distributions=param_dist, n_jobs=-1, n_iter=20, cv=5,scoring=\"accuracy\",random_state=123)\n",
    "random_search_rf.fit(X_train, y_train);\n",
    "\n",
    "\n",
    "\n",
    "### 4. LightGBM\n",
    "\n",
    "param_dist = {\n",
    "    #\"lgbmclassifier__lambda_l1\": [0,1,10,20,50,75,100],\n",
    "   # \"lgbmclassifier__lambda_l2\": [0,1,10,20,50,75,100],\n",
    "    \"lgbmclassifier__n_estimators\": [2,5,10,20,50,75,100,150,200],\n",
    "    \"lgbmclassifier__num_leaves\":  [2,5,10,20,50,75,100,150,200],\n",
    "    \"lgbmclassifier__min_child_samples\":  [2,5,10,20,50,75,100,150,200],\n",
    "    \"lgbmclassifier__max_depth\": [2,5,10,20,50,75,100,150,200],\n",
    "}\n",
    "random_search_lgbm = RandomizedSearchCV(pipe_lgbm, param_distributions=param_dist, n_jobs=-1, n_iter=30, cv=5,scoring=\"accuracy\",random_state=123)\n",
    "random_search_lgbm.fit(X_train, y_train);\n",
    "\n",
    "\n",
    "\n",
    "### 5. XGBoost\n",
    "\n",
    "param_dist = {\n",
    "    \"xgbclassifier__max_depth\": [2,3,4,5,7,10,20],\n",
    "    \"xgbclassifier__min_child_weight\": [0.01,0.1,0.5,0.75,1],\n",
    "    \"xgbclassifier__subsample\": [0.1,0.5,0.75,1],\n",
    "    \"xgbclassifier__n_estimators\": [2,5,10,20,50,75,100,150,200],\n",
    "    \"xgbclassifier__learning_rate\": [ 0.1, 0.2, 0.3],\n",
    "    \"xgbclassifier__eta\": [0.05, 0.1, 0.2, 0.3],\n",
    "}\n",
    "random_search_xgb = RandomizedSearchCV(pipe_xgb, param_distributions=param_dist, n_jobs=-1, n_iter=20, cv=5,scoring=\"accuracy\",random_state=123)\n",
    "random_search_xgb.fit(X_train, y_train);\n",
    "\n",
    "\n",
    "\n",
    "### 6. SVC\n",
    "\n",
    "param_dist = {\n",
    "    \"svc__C\": loguniform(0.001,100),\n",
    "    \"svc__gamma\": loguniform(0.001,10),\n",
    "}\n",
    "\n",
    "random_search_svc = RandomizedSearchCV(pipe_svc_rbf, param_distributions=param_dist, n_jobs=-1, n_iter=20, cv=5,scoring=\"accuracy\",random_state=123)\n",
    "random_search_svc.fit(X_train, y_train);\n",
    "\n",
    "\n",
    "### 7. knn\n",
    "param_dist = {\n",
    "    \"kneighborsclassifier__n_neighbors\": [2, 3, 4, 5, 6, 7, 8, 9, 10, 11, 12, 13, 14, 15],\n",
    "}\n",
    "\n",
    "random_search_knn = RandomizedSearchCV(pipe_knn, param_distributions=param_dist, n_jobs=-1, n_iter=10, cv=5,scoring=\"accuracy\")\n",
    "random_search_knn.fit(X_train, y_train);\n",
    "\n",
    "### 8. ridge\n",
    "param_dist = {\n",
    "    \"ridgeclassifier__alpha\": loguniform(0.005,100),\n",
    "}\n",
    "\n",
    "random_search_r = RandomizedSearchCV(pipe_r, param_distributions=param_dist, n_jobs=-1, n_iter=20, cv=5,scoring=\"accuracy\")\n",
    "random_search_r.fit(X_train, y_train);\n"
   ]
  },
  {
   "cell_type": "code",
   "execution_count": 43,
   "id": "1b95a110",
   "metadata": {
    "slideshow": {
     "slide_type": "-"
    }
   },
   "outputs": [],
   "source": [
    "classifiers={\n",
    "             \"LR\": random_search_lr.best_estimator_,\n",
    "             \"R\": random_search_r.best_estimator_,\n",
    "             \"CB\":random_search_cb.best_estimator_,\n",
    "             \"RF\":random_search_rf.best_estimator_,\n",
    "             \"LGBM\":random_search_lgbm.best_estimator_,\n",
    "             \"XGB\":random_search_xgb.best_estimator_,\n",
    "             \"SVC\":random_search_svc.best_estimator_,\n",
    "             \"knn\":random_search_knn.best_estimator_,\n",
    "}"
   ]
  },
  {
   "cell_type": "markdown",
   "id": "445137ad",
   "metadata": {
    "slideshow": {
     "slide_type": "slide"
    }
   },
   "source": [
    "# Test"
   ]
  },
  {
   "cell_type": "markdown",
   "id": "68a08cf3",
   "metadata": {
    "slideshow": {
     "slide_type": "fragment"
    }
   },
   "source": [
    "### Stacking"
   ]
  },
  {
   "cell_type": "code",
   "execution_count": 44,
   "id": "1ac48a10",
   "metadata": {
    "slideshow": {
     "slide_type": "fragment"
    }
   },
   "outputs": [
    {
     "data": {
      "text/html": [
       "<div>\n",
       "<style scoped>\n",
       "    .dataframe tbody tr th:only-of-type {\n",
       "        vertical-align: middle;\n",
       "    }\n",
       "\n",
       "    .dataframe tbody tr th {\n",
       "        vertical-align: top;\n",
       "    }\n",
       "\n",
       "    .dataframe thead th {\n",
       "        text-align: right;\n",
       "    }\n",
       "</style>\n",
       "<table border=\"1\" class=\"dataframe\">\n",
       "  <thead>\n",
       "    <tr style=\"text-align: right;\">\n",
       "      <th></th>\n",
       "      <th>Coefficient</th>\n",
       "    </tr>\n",
       "  </thead>\n",
       "  <tbody>\n",
       "    <tr>\n",
       "      <th>LR</th>\n",
       "      <td>-0.113037</td>\n",
       "    </tr>\n",
       "    <tr>\n",
       "      <th>R</th>\n",
       "      <td>0.782543</td>\n",
       "    </tr>\n",
       "    <tr>\n",
       "      <th>CB</th>\n",
       "      <td>-1.064423</td>\n",
       "    </tr>\n",
       "    <tr>\n",
       "      <th>RF</th>\n",
       "      <td>2.176389</td>\n",
       "    </tr>\n",
       "    <tr>\n",
       "      <th>LGBM</th>\n",
       "      <td>4.711868</td>\n",
       "    </tr>\n",
       "    <tr>\n",
       "      <th>XGB</th>\n",
       "      <td>-1.753753</td>\n",
       "    </tr>\n",
       "    <tr>\n",
       "      <th>SVC</th>\n",
       "      <td>0.025623</td>\n",
       "    </tr>\n",
       "    <tr>\n",
       "      <th>knn</th>\n",
       "      <td>0.556288</td>\n",
       "    </tr>\n",
       "  </tbody>\n",
       "</table>\n",
       "</div>"
      ],
      "text/plain": [
       "      Coefficient\n",
       "LR      -0.113037\n",
       "R        0.782543\n",
       "CB      -1.064423\n",
       "RF       2.176389\n",
       "LGBM     4.711868\n",
       "XGB     -1.753753\n",
       "SVC      0.025623\n",
       "knn      0.556288"
      ]
     },
     "execution_count": 44,
     "metadata": {},
     "output_type": "execute_result"
    }
   ],
   "source": [
    "pred={}\n",
    "stacking_model = StackingClassifier(list(classifiers.items()))\n",
    "stacking_model.fit(X_train, y_train);\n",
    "pred[\"stacking\"] = stacking_model.predict(X_test)\n",
    "prediction_stacking=pd.concat([X_test[\"PassengerId\"],pd.DataFrame(pred[\"stacking\"]==1,columns=[\"Transported\"])], axis=1)\n",
    "prediction_stacking.to_csv (\"stacking\"+\".csv\", index = False, header=True)\n",
    "\n",
    "pd.DataFrame(\n",
    "    data=stacking_model.final_estimator_.coef_[0],\n",
    "    index=classifiers.keys(),\n",
    "    columns=[\"Coefficient\"],\n",
    ")"
   ]
  },
  {
   "cell_type": "markdown",
   "id": "a4d1f28c",
   "metadata": {
    "slideshow": {
     "slide_type": "slide"
    }
   },
   "source": [
    "Let's submit"
   ]
  },
  {
   "cell_type": "markdown",
   "id": "e9562cea",
   "metadata": {
    "slideshow": {
     "slide_type": "fragment"
    }
   },
   "source": [
    "The Kaggle score is  0.80173"
   ]
  },
  {
   "cell_type": "markdown",
   "id": "c2a62604",
   "metadata": {
    "slideshow": {
     "slide_type": "slide"
    }
   },
   "source": [
    "# We can do better"
   ]
  },
  {
   "cell_type": "markdown",
   "id": "523f9cd1",
   "metadata": {
    "slideshow": {
     "slide_type": "slide"
    }
   },
   "source": [
    "# KMeans\n",
    "Maybe we can cluster X into 2 groups and perform classification on each group separately."
   ]
  },
  {
   "cell_type": "code",
   "execution_count": 66,
   "id": "7d7df80d",
   "metadata": {
    "slideshow": {
     "slide_type": "fragment"
    }
   },
   "outputs": [
    {
     "data": {
      "image/png": "[encoded data removed]",
      "text/plain": [
       "<Figure size 576x396 with 1 Axes>"
      ]
     },
     "metadata": {},
     "output_type": "display_data"
    }
   ],
   "source": [
    "model=KMeans(n_clusters=2,random_state=123)\n",
    "visualizer=SilhouetteVisualizer(model,color=\"yellowbrick\")\n",
    "visualizer.fit(X_train_transformed);"
   ]
  },
  {
   "cell_type": "code",
   "execution_count": 46,
   "id": "ac5dc085",
   "metadata": {
    "slideshow": {
     "slide_type": "skip"
    }
   },
   "outputs": [],
   "source": [
    "pipe_KMeans=make_pipeline(preprocessor,KMeans(n_clusters=2,random_state=123))\n",
    "pipe_KMeans.fit(X_train);\n",
    "y_clusters=pipe_KMeans.predict(X_train)\n",
    "X_train_sub1=X_train[y_clusters==0]\n",
    "y_train_sub1=y_train[y_clusters==0]\n",
    "X_train_sub2=X_train[y_clusters==1]\n",
    "y_train_sub2=y_train[y_clusters==1]"
   ]
  },
  {
   "cell_type": "code",
   "execution_count": 47,
   "id": "03c7e19d",
   "metadata": {
    "slideshow": {
     "slide_type": "skip"
    }
   },
   "outputs": [
    {
     "data": {
      "text/plain": [
       "((8693, 28), (3643, 28), (5050, 28))"
      ]
     },
     "execution_count": 47,
     "metadata": {},
     "output_type": "execute_result"
    }
   ],
   "source": [
    "X_train.shape,X_train_sub1.shape,X_train_sub2.shape"
   ]
  },
  {
   "cell_type": "code",
   "execution_count": 48,
   "id": "7e6771b7",
   "metadata": {
    "slideshow": {
     "slide_type": "fragment"
    }
   },
   "outputs": [
    {
     "data": {
      "text/plain": [
       "(0.5036236051995858, 0.7875377436178973, 0.2988118811881188)"
      ]
     },
     "execution_count": 48,
     "metadata": {},
     "output_type": "execute_result"
    }
   ],
   "source": [
    "y_train.sum()/y_train.shape[0], y_train_sub1.sum()/y_train_sub1.shape[0],  y_train_sub2.sum()/y_train_sub2.shape[0]"
   ]
  },
  {
   "cell_type": "code",
   "execution_count": 49,
   "id": "f9408a97",
   "metadata": {
    "slideshow": {
     "slide_type": "slide"
    }
   },
   "outputs": [
    {
     "data": {
      "text/html": [
       "<div>\n",
       "<style scoped>\n",
       "    .dataframe tbody tr th:only-of-type {\n",
       "        vertical-align: middle;\n",
       "    }\n",
       "\n",
       "    .dataframe tbody tr th {\n",
       "        vertical-align: top;\n",
       "    }\n",
       "\n",
       "    .dataframe thead th {\n",
       "        text-align: right;\n",
       "    }\n",
       "</style>\n",
       "<table border=\"1\" class=\"dataframe\">\n",
       "  <thead>\n",
       "    <tr style=\"text-align: right;\">\n",
       "      <th></th>\n",
       "      <th>LogisticRegression</th>\n",
       "      <th>LogisticRegression_sub1</th>\n",
       "      <th>LogisticRegression_sub2</th>\n",
       "    </tr>\n",
       "  </thead>\n",
       "  <tbody>\n",
       "    <tr>\n",
       "      <th>fit_time</th>\n",
       "      <td>0.1417 (+/- 0.0182)</td>\n",
       "      <td>0.0551 (+/- 0.0035)</td>\n",
       "      <td>0.0838 (+/- 0.0016)</td>\n",
       "    </tr>\n",
       "    <tr>\n",
       "      <th>score_time</th>\n",
       "      <td>0.0130 (+/- 0.0008)</td>\n",
       "      <td>0.0087 (+/- 0.0001)</td>\n",
       "      <td>0.0109 (+/- 0.0011)</td>\n",
       "    </tr>\n",
       "    <tr>\n",
       "      <th>test_accuracy</th>\n",
       "      <td>0.7919 (+/- 0.0121)</td>\n",
       "      <td>0.7925 (+/- 0.0186)</td>\n",
       "      <td>0.8000 (+/- 0.0134)</td>\n",
       "    </tr>\n",
       "    <tr>\n",
       "      <th>train_accuracy</th>\n",
       "      <td>0.8004 (+/- 0.0036)</td>\n",
       "      <td>0.8022 (+/- 0.0063)</td>\n",
       "      <td>0.8117 (+/- 0.0013)</td>\n",
       "    </tr>\n",
       "  </tbody>\n",
       "</table>\n",
       "</div>"
      ],
      "text/plain": [
       "                 LogisticRegression LogisticRegression_sub1  \\\n",
       "fit_time        0.1417 (+/- 0.0182)     0.0551 (+/- 0.0035)   \n",
       "score_time      0.0130 (+/- 0.0008)     0.0087 (+/- 0.0001)   \n",
       "test_accuracy   0.7919 (+/- 0.0121)     0.7925 (+/- 0.0186)   \n",
       "train_accuracy  0.8004 (+/- 0.0036)     0.8022 (+/- 0.0063)   \n",
       "\n",
       "               LogisticRegression_sub2  \n",
       "fit_time           0.0838 (+/- 0.0016)  \n",
       "score_time         0.0109 (+/- 0.0011)  \n",
       "test_accuracy      0.8000 (+/- 0.0134)  \n",
       "train_accuracy     0.8117 (+/- 0.0013)  "
      ]
     },
     "execution_count": 49,
     "metadata": {},
     "output_type": "execute_result"
    }
   ],
   "source": [
    "scores={}\n",
    "scores[\"LogisticRegression\"]=mean_std_cross_val_scores(pipe_lr,  X_train,y_train,scoring=scoring,cv=5,return_train_score=True)\n",
    "scores[\"LogisticRegression_sub1\"]=mean_std_cross_val_scores(pipe_lr,  X_train_sub1,y_train_sub1,scoring=scoring,cv=5,return_train_score=True)\n",
    "scores[\"LogisticRegression_sub2\"]=mean_std_cross_val_scores(pipe_lr,  X_train_sub2,y_train_sub2,scoring=scoring,cv=5,return_train_score=True)\n",
    "pd.DataFrame(scores)"
   ]
  },
  {
   "cell_type": "code",
   "execution_count": 50,
   "id": "318a36c5",
   "metadata": {
    "scrolled": true,
    "slideshow": {
     "slide_type": "skip"
    }
   },
   "outputs": [
    {
     "name": "stderr",
     "output_type": "stream",
     "text": [
      "\n",
      "10 fits failed out of a total of 100.\n",
      "The score on these train-test partitions for these parameters will be set to nan.\n",
      "If these failures are not expected, you can try to debug them by setting error_score='raise'.\n",
      "\n",
      "Below are more details about the failures:\n",
      "--------------------------------------------------------------------------------\n",
      "10 fits failed with the following error:\n",
      "Traceback (most recent call last):\n",
      "  File \"/Users/seyedarmanabtahi/opt/anaconda3/envs/cpsc330/lib/python3.9/site-packages/sklearn/model_selection/_validation.py\", line 680, in _fit_and_score\n",
      "    estimator.fit(X_train, y_train, **fit_params)\n",
      "  File \"/Users/seyedarmanabtahi/opt/anaconda3/envs/cpsc330/lib/python3.9/site-packages/sklearn/pipeline.py\", line 394, in fit\n",
      "    self._final_estimator.fit(Xt, y, **fit_params_last_step)\n",
      "  File \"/Users/seyedarmanabtahi/opt/anaconda3/envs/cpsc330/lib/python3.9/site-packages/catboost/core.py\", line 4716, in fit\n",
      "    self._fit(X, y, cat_features, text_features, embedding_features, None, sample_weight, None, None, None, None, baseline, use_best_model,\n",
      "  File \"/Users/seyedarmanabtahi/opt/anaconda3/envs/cpsc330/lib/python3.9/site-packages/catboost/core.py\", line 2021, in _fit\n",
      "    train_params = self._prepare_train_params(\n",
      "  File \"/Users/seyedarmanabtahi/opt/anaconda3/envs/cpsc330/lib/python3.9/site-packages/catboost/core.py\", line 1953, in _prepare_train_params\n",
      "    _check_train_params(params)\n",
      "  File \"_catboost.pyx\", line 5839, in _catboost._check_train_params\n",
      "  File \"_catboost.pyx\", line 5858, in _catboost._check_train_params\n",
      "_catboost.CatBoostError: catboost/private/libs/options/oblivious_tree_options.cpp:122: Maximum tree depth is 16\n",
      "\n",
      "/Users/seyedarmanabtahi/opt/anaconda3/envs/cpsc330/lib/python3.9/site-packages/xgboost/compat.py:36: FutureWarning: pandas.Int64Index is deprecated and will be removed from pandas in a future version. Use pandas.Index with the appropriate dtype instead.\n",
      "  from pandas import MultiIndex, Int64Index\n",
      "/Users/seyedarmanabtahi/opt/anaconda3/envs/cpsc330/lib/python3.9/site-packages/xgboost/compat.py:36: FutureWarning: pandas.Int64Index is deprecated and will be removed from pandas in a future version. Use pandas.Index with the appropriate dtype instead.\n",
      "  from pandas import MultiIndex, Int64Index\n",
      "/Users/seyedarmanabtahi/opt/anaconda3/envs/cpsc330/lib/python3.9/site-packages/xgboost/compat.py:36: FutureWarning: pandas.Int64Index is deprecated and will be removed from pandas in a future version. Use pandas.Index with the appropriate dtype instead.\n",
      "  from pandas import MultiIndex, Int64Index\n",
      "/Users/seyedarmanabtahi/opt/anaconda3/envs/cpsc330/lib/python3.9/site-packages/xgboost/compat.py:36: FutureWarning: pandas.Int64Index is deprecated and will be removed from pandas in a future version. Use pandas.Index with the appropriate dtype instead.\n",
      "  from pandas import MultiIndex, Int64Index\n",
      "/Users/seyedarmanabtahi/opt/anaconda3/envs/cpsc330/lib/python3.9/site-packages/xgboost/compat.py:36: FutureWarning: pandas.Int64Index is deprecated and will be removed from pandas in a future version. Use pandas.Index with the appropriate dtype instead.\n",
      "  from pandas import MultiIndex, Int64Index\n",
      "/Users/seyedarmanabtahi/opt/anaconda3/envs/cpsc330/lib/python3.9/site-packages/xgboost/compat.py:36: FutureWarning: pandas.Int64Index is deprecated and will be removed from pandas in a future version. Use pandas.Index with the appropriate dtype instead.\n",
      "  from pandas import MultiIndex, Int64Index\n",
      "/Users/seyedarmanabtahi/opt/anaconda3/envs/cpsc330/lib/python3.9/site-packages/xgboost/compat.py:36: FutureWarning: pandas.Int64Index is deprecated and will be removed from pandas in a future version. Use pandas.Index with the appropriate dtype instead.\n",
      "  from pandas import MultiIndex, Int64Index\n",
      "/Users/seyedarmanabtahi/opt/anaconda3/envs/cpsc330/lib/python3.9/site-packages/xgboost/compat.py:36: FutureWarning: pandas.Int64Index is deprecated and will be removed from pandas in a future version. Use pandas.Index with the appropriate dtype instead.\n",
      "  from pandas import MultiIndex, Int64Index\n",
      "/Users/seyedarmanabtahi/opt/anaconda3/envs/cpsc330/lib/python3.9/site-packages/xgboost/compat.py:36: FutureWarning: pandas.Int64Index is deprecated and will be removed from pandas in a future version. Use pandas.Index with the appropriate dtype instead.\n",
      "  from pandas import MultiIndex, Int64Index\n",
      "/Users/seyedarmanabtahi/opt/anaconda3/envs/cpsc330/lib/python3.9/site-packages/xgboost/compat.py:36: FutureWarning: pandas.Int64Index is deprecated and will be removed from pandas in a future version. Use pandas.Index with the appropriate dtype instead.\n",
      "  from pandas import MultiIndex, Int64Index\n",
      "/Users/seyedarmanabtahi/opt/anaconda3/envs/cpsc330/lib/python3.9/site-packages/xgboost/compat.py:36: FutureWarning: pandas.Int64Index is deprecated and will be removed from pandas in a future version. Use pandas.Index with the appropriate dtype instead.\n",
      "  from pandas import MultiIndex, Int64Index\n",
      "/Users/seyedarmanabtahi/opt/anaconda3/envs/cpsc330/lib/python3.9/site-packages/sklearn/svm/_base.py:284: ConvergenceWarning: Solver terminated early (max_iter=20000).  Consider pre-processing your data with StandardScaler or MinMaxScaler.\n",
      "  warnings.warn(\n",
      "/Users/seyedarmanabtahi/opt/anaconda3/envs/cpsc330/lib/python3.9/site-packages/sklearn/svm/_base.py:284: ConvergenceWarning: Solver terminated early (max_iter=20000).  Consider pre-processing your data with StandardScaler or MinMaxScaler.\n",
      "  warnings.warn(\n",
      "/Users/seyedarmanabtahi/opt/anaconda3/envs/cpsc330/lib/python3.9/site-packages/sklearn/svm/_base.py:284: ConvergenceWarning: Solver terminated early (max_iter=20000).  Consider pre-processing your data with StandardScaler or MinMaxScaler.\n",
      "  warnings.warn(\n",
      "/Users/seyedarmanabtahi/opt/anaconda3/envs/cpsc330/lib/python3.9/site-packages/sklearn/svm/_base.py:284: ConvergenceWarning: Solver terminated early (max_iter=20000).  Consider pre-processing your data with StandardScaler or MinMaxScaler.\n",
      "  warnings.warn(\n",
      "/Users/seyedarmanabtahi/opt/anaconda3/envs/cpsc330/lib/python3.9/site-packages/sklearn/svm/_base.py:284: ConvergenceWarning: Solver terminated early (max_iter=20000).  Consider pre-processing your data with StandardScaler or MinMaxScaler.\n",
      "  warnings.warn(\n",
      "/Users/seyedarmanabtahi/opt/anaconda3/envs/cpsc330/lib/python3.9/site-packages/sklearn/svm/_base.py:284: ConvergenceWarning: Solver terminated early (max_iter=20000).  Consider pre-processing your data with StandardScaler or MinMaxScaler.\n",
      "  warnings.warn(\n"
     ]
    }
   ],
   "source": [
    "### 1. LogosticRegresion\n",
    "\n",
    "param_dist = {\n",
    "    \"logisticregression__C\": loguniform(0.005,100),\n",
    "}\n",
    "\n",
    "random_search_lr_sub1 = RandomizedSearchCV(pipe_lr, param_distributions=param_dist, n_jobs=-1, n_iter=20, cv=5,scoring=\"accuracy\",random_state=123)\n",
    "random_search_lr_sub1.fit(X_train_sub1, y_train_sub1);\n",
    "\n",
    "\n",
    "### 2. CatBoost\n",
    "param_dist = {\n",
    "    \"catboostclassifier__max_depth\": [2,3,4,5,6,7,8,9,10,20],\n",
    "    \"catboostclassifier__learning_rate\": [0.05, 0.1,0.2,0.5],\n",
    "    \"catboostclassifier__n_estimators\": [5,10,20,50,75,100,150,200],\n",
    "    \"catboostclassifier__loss_function\": [\"MultiClass\",\"Logloss\",\"CrossEntropy\"],\n",
    "}\n",
    "random_search_cb_sub1 = RandomizedSearchCV(pipe_catboost, param_distributions=param_dist, n_jobs=-1, n_iter=20, cv=5,scoring=\"accuracy\",random_state=123)\n",
    "random_search_cb_sub1.fit(X_train_sub1, y_train_sub1);\n",
    "\n",
    "### 3. Random Forest\n",
    "param_dist = {\n",
    "    \"randomforestclassifier__n_estimators\": [5,10,20,50,75,100,150,200,500],\n",
    "    \"randomforestclassifier__max_depth\": [5,10,20,50,75,100,150,200],\n",
    "    \"randomforestclassifier__class_weight\": [\"balanced\"],\n",
    "    \"randomforestclassifier__max_features\": [\"auto\"],\n",
    "    \"randomforestclassifier__bootstrap\": [True],\n",
    "    \n",
    "}\n",
    "random_search_rf_sub1 = RandomizedSearchCV(pipe_rf, param_distributions=param_dist, n_jobs=-1, n_iter=20, cv=5,scoring=\"accuracy\",random_state=123)\n",
    "random_search_rf_sub1.fit(X_train_sub1, y_train_sub1);\n",
    "\n",
    "\n",
    "\n",
    "### 4. LightGBM\n",
    "\n",
    "param_dist = {\n",
    "    #\"lgbmclassifier__lambda_l1\": [0,1,10,20,50,75,100],\n",
    "   # \"lgbmclassifier__lambda_l2\": [0,1,10,20,50,75,100],\n",
    "    \"lgbmclassifier__n_estimators\": [2,5,10,20,50,75,100,150,200],\n",
    "    \"lgbmclassifier__num_leaves\":  [2,5,10,20,50,75,100,150,200],\n",
    "    \"lgbmclassifier__min_child_samples\":  [2,5,10,20,50,75,100,150,200],\n",
    "    \"lgbmclassifier__max_depth\": [2,5,10,20,50,75,100,150,200],\n",
    "}\n",
    "random_search_lgbm_sub1 = RandomizedSearchCV(pipe_lgbm, param_distributions=param_dist, n_jobs=-1, n_iter=30, cv=5,scoring=\"accuracy\",random_state=123)\n",
    "random_search_lgbm_sub1.fit(X_train_sub1, y_train_sub1);\n",
    "\n",
    "\n",
    "\n",
    "### 5. XGBoost\n",
    "\n",
    "param_dist = {\n",
    "    \"xgbclassifier__max_depth\": [2,3,4,5,7,10,20],\n",
    "    \"xgbclassifier__min_child_weight\": [0.01,0.1,0.5,0.75,1],\n",
    "    \"xgbclassifier__subsample\": [0.1,0.5,0.75,1],\n",
    "    \"xgbclassifier__n_estimators\": [2,5,10,20,50,75,100,150,200],\n",
    "    \"xgbclassifier__learning_rate\": [ 0.1, 0.2, 0.3],\n",
    "    \"xgbclassifier__eta\": [0.05, 0.1, 0.2, 0.3],\n",
    "}\n",
    "random_search_xgb_sub1 = RandomizedSearchCV(pipe_xgb, param_distributions=param_dist, n_jobs=-1, n_iter=20, cv=5,scoring=\"accuracy\",random_state=123)\n",
    "random_search_xgb_sub1.fit(X_train_sub1, y_train_sub1);\n",
    "\n",
    "\n",
    "\n",
    "### 6. SVC\n",
    "\n",
    "param_dist = {\n",
    "    \"svc__C\": loguniform(0.001,100),\n",
    "    \"svc__gamma\": loguniform(0.001,10),\n",
    "}\n",
    "\n",
    "random_search_svc_sub1 = RandomizedSearchCV(pipe_svc_rbf, param_distributions=param_dist, n_jobs=-1, n_iter=20, cv=5,scoring=\"accuracy\",random_state=123)\n",
    "random_search_svc_sub1.fit(X_train_sub1, y_train_sub1);\n",
    "\n",
    "\n",
    "### 7. knn\n",
    "param_dist = {\n",
    "    \"kneighborsclassifier__n_neighbors\": [2, 3, 4, 5, 6, 7, 8, 9, 10, 11, 12, 13, 14, 15],\n",
    "}\n",
    "\n",
    "random_search_knn_sub1 = RandomizedSearchCV(pipe_knn, param_distributions=param_dist, n_jobs=-1, n_iter=10, cv=5,scoring=\"accuracy\")\n",
    "random_search_knn_sub1.fit(X_train_sub1, y_train_sub1);\n",
    "\n",
    "### 8. ridge\n",
    "param_dist = {\n",
    "    \"ridgeclassifier__alpha\": loguniform(0.005,100),\n",
    "}\n",
    "\n",
    "random_search_r_sub1 = RandomizedSearchCV(pipe_r, param_distributions=param_dist, n_jobs=-1, n_iter=20, cv=5,scoring=\"accuracy\")\n",
    "random_search_r_sub1.fit(X_train_sub1, y_train_sub1);\n"
   ]
  },
  {
   "cell_type": "code",
   "execution_count": 51,
   "id": "f99d22a9",
   "metadata": {
    "scrolled": true,
    "slideshow": {
     "slide_type": "skip"
    }
   },
   "outputs": [
    {
     "name": "stderr",
     "output_type": "stream",
     "text": [
      "\n",
      "10 fits failed out of a total of 100.\n",
      "The score on these train-test partitions for these parameters will be set to nan.\n",
      "If these failures are not expected, you can try to debug them by setting error_score='raise'.\n",
      "\n",
      "Below are more details about the failures:\n",
      "--------------------------------------------------------------------------------\n",
      "10 fits failed with the following error:\n",
      "Traceback (most recent call last):\n",
      "  File \"/Users/seyedarmanabtahi/opt/anaconda3/envs/cpsc330/lib/python3.9/site-packages/sklearn/model_selection/_validation.py\", line 680, in _fit_and_score\n",
      "    estimator.fit(X_train, y_train, **fit_params)\n",
      "  File \"/Users/seyedarmanabtahi/opt/anaconda3/envs/cpsc330/lib/python3.9/site-packages/sklearn/pipeline.py\", line 394, in fit\n",
      "    self._final_estimator.fit(Xt, y, **fit_params_last_step)\n",
      "  File \"/Users/seyedarmanabtahi/opt/anaconda3/envs/cpsc330/lib/python3.9/site-packages/catboost/core.py\", line 4716, in fit\n",
      "    self._fit(X, y, cat_features, text_features, embedding_features, None, sample_weight, None, None, None, None, baseline, use_best_model,\n",
      "  File \"/Users/seyedarmanabtahi/opt/anaconda3/envs/cpsc330/lib/python3.9/site-packages/catboost/core.py\", line 2021, in _fit\n",
      "    train_params = self._prepare_train_params(\n",
      "  File \"/Users/seyedarmanabtahi/opt/anaconda3/envs/cpsc330/lib/python3.9/site-packages/catboost/core.py\", line 1953, in _prepare_train_params\n",
      "    _check_train_params(params)\n",
      "  File \"_catboost.pyx\", line 5839, in _catboost._check_train_params\n",
      "  File \"_catboost.pyx\", line 5858, in _catboost._check_train_params\n",
      "_catboost.CatBoostError: catboost/private/libs/options/oblivious_tree_options.cpp:122: Maximum tree depth is 16\n",
      "\n",
      "/Users/seyedarmanabtahi/opt/anaconda3/envs/cpsc330/lib/python3.9/site-packages/xgboost/compat.py:36: FutureWarning: pandas.Int64Index is deprecated and will be removed from pandas in a future version. Use pandas.Index with the appropriate dtype instead.\n",
      "  from pandas import MultiIndex, Int64Index\n",
      "/Users/seyedarmanabtahi/opt/anaconda3/envs/cpsc330/lib/python3.9/site-packages/xgboost/compat.py:36: FutureWarning: pandas.Int64Index is deprecated and will be removed from pandas in a future version. Use pandas.Index with the appropriate dtype instead.\n",
      "  from pandas import MultiIndex, Int64Index\n",
      "/Users/seyedarmanabtahi/opt/anaconda3/envs/cpsc330/lib/python3.9/site-packages/xgboost/compat.py:36: FutureWarning: pandas.Int64Index is deprecated and will be removed from pandas in a future version. Use pandas.Index with the appropriate dtype instead.\n",
      "  from pandas import MultiIndex, Int64Index\n",
      "/Users/seyedarmanabtahi/opt/anaconda3/envs/cpsc330/lib/python3.9/site-packages/xgboost/compat.py:36: FutureWarning: pandas.Int64Index is deprecated and will be removed from pandas in a future version. Use pandas.Index with the appropriate dtype instead.\n",
      "  from pandas import MultiIndex, Int64Index\n",
      "/Users/seyedarmanabtahi/opt/anaconda3/envs/cpsc330/lib/python3.9/site-packages/xgboost/compat.py:36: FutureWarning: pandas.Int64Index is deprecated and will be removed from pandas in a future version. Use pandas.Index with the appropriate dtype instead.\n",
      "  from pandas import MultiIndex, Int64Index\n",
      "/Users/seyedarmanabtahi/opt/anaconda3/envs/cpsc330/lib/python3.9/site-packages/xgboost/compat.py:36: FutureWarning: pandas.Int64Index is deprecated and will be removed from pandas in a future version. Use pandas.Index with the appropriate dtype instead.\n",
      "  from pandas import MultiIndex, Int64Index\n",
      "/Users/seyedarmanabtahi/opt/anaconda3/envs/cpsc330/lib/python3.9/site-packages/xgboost/compat.py:36: FutureWarning: pandas.Int64Index is deprecated and will be removed from pandas in a future version. Use pandas.Index with the appropriate dtype instead.\n",
      "  from pandas import MultiIndex, Int64Index\n",
      "/Users/seyedarmanabtahi/opt/anaconda3/envs/cpsc330/lib/python3.9/site-packages/xgboost/compat.py:36: FutureWarning: pandas.Int64Index is deprecated and will be removed from pandas in a future version. Use pandas.Index with the appropriate dtype instead.\n",
      "  from pandas import MultiIndex, Int64Index\n",
      "/Users/seyedarmanabtahi/opt/anaconda3/envs/cpsc330/lib/python3.9/site-packages/xgboost/compat.py:36: FutureWarning: pandas.Int64Index is deprecated and will be removed from pandas in a future version. Use pandas.Index with the appropriate dtype instead.\n",
      "  from pandas import MultiIndex, Int64Index\n",
      "/Users/seyedarmanabtahi/opt/anaconda3/envs/cpsc330/lib/python3.9/site-packages/xgboost/compat.py:36: FutureWarning: pandas.Int64Index is deprecated and will be removed from pandas in a future version. Use pandas.Index with the appropriate dtype instead.\n",
      "  from pandas import MultiIndex, Int64Index\n",
      "/Users/seyedarmanabtahi/opt/anaconda3/envs/cpsc330/lib/python3.9/site-packages/sklearn/svm/_base.py:284: ConvergenceWarning: Solver terminated early (max_iter=20000).  Consider pre-processing your data with StandardScaler or MinMaxScaler.\n",
      "  warnings.warn(\n",
      "/Users/seyedarmanabtahi/opt/anaconda3/envs/cpsc330/lib/python3.9/site-packages/sklearn/svm/_base.py:284: ConvergenceWarning: Solver terminated early (max_iter=20000).  Consider pre-processing your data with StandardScaler or MinMaxScaler.\n",
      "  warnings.warn(\n",
      "/Users/seyedarmanabtahi/opt/anaconda3/envs/cpsc330/lib/python3.9/site-packages/sklearn/svm/_base.py:284: ConvergenceWarning: Solver terminated early (max_iter=20000).  Consider pre-processing your data with StandardScaler or MinMaxScaler.\n",
      "  warnings.warn(\n",
      "/Users/seyedarmanabtahi/opt/anaconda3/envs/cpsc330/lib/python3.9/site-packages/sklearn/svm/_base.py:284: ConvergenceWarning: Solver terminated early (max_iter=20000).  Consider pre-processing your data with StandardScaler or MinMaxScaler.\n",
      "  warnings.warn(\n",
      "/Users/seyedarmanabtahi/opt/anaconda3/envs/cpsc330/lib/python3.9/site-packages/sklearn/svm/_base.py:284: ConvergenceWarning: Solver terminated early (max_iter=20000).  Consider pre-processing your data with StandardScaler or MinMaxScaler.\n",
      "  warnings.warn(\n"
     ]
    }
   ],
   "source": [
    "### 1. LogosticRegresion\n",
    "\n",
    "param_dist = {\n",
    "    \"logisticregression__C\": loguniform(0.005,100),\n",
    "}\n",
    "\n",
    "random_search_lr_sub2 = RandomizedSearchCV(pipe_lr, param_distributions=param_dist, n_jobs=-1, n_iter=20, cv=5,scoring=\"accuracy\",random_state=123)\n",
    "random_search_lr_sub2.fit(X_train_sub2, y_train_sub2);\n",
    "\n",
    "\n",
    "### 2. CatBoost\n",
    "param_dist = {\n",
    "    \"catboostclassifier__max_depth\": [2,3,4,5,6,7,8,9,10,20],\n",
    "    \"catboostclassifier__learning_rate\": [0.05, 0.1,0.2,0.5],\n",
    "    \"catboostclassifier__n_estimators\": [5,10,20,50,75,100,150,200],\n",
    "    \"catboostclassifier__loss_function\": [\"MultiClass\",\"Logloss\",\"CrossEntropy\"],\n",
    "}\n",
    "random_search_cb_sub2 = RandomizedSearchCV(pipe_catboost, param_distributions=param_dist, n_jobs=-1, n_iter=20, cv=5,scoring=\"accuracy\",random_state=123)\n",
    "random_search_cb_sub2.fit(X_train_sub2, y_train_sub2);\n",
    "\n",
    "### 3. Random Forest\n",
    "param_dist = {\n",
    "    \"randomforestclassifier__n_estimators\": [5,10,20,50,75,100,150,200,500],\n",
    "    \"randomforestclassifier__max_depth\": [5,10,20,50,75,100,150,200],\n",
    "    \"randomforestclassifier__class_weight\": [\"balanced\"],\n",
    "    \"randomforestclassifier__max_features\": [\"auto\"],\n",
    "    \"randomforestclassifier__bootstrap\": [True],\n",
    "    \n",
    "}\n",
    "random_search_rf_sub2 = RandomizedSearchCV(pipe_rf, param_distributions=param_dist, n_jobs=-1, n_iter=20, cv=5,scoring=\"accuracy\",random_state=123)\n",
    "random_search_rf_sub2.fit(X_train_sub2, y_train_sub2);\n",
    "\n",
    "\n",
    "### 4. LightGBM\n",
    "\n",
    "param_dist = {\n",
    "    #\"lgbmclassifier__lambda_l1\": [0,1,10,20,50,75,100],\n",
    "   # \"lgbmclassifier__lambda_l2\": [0,1,10,20,50,75,100],\n",
    "    \"lgbmclassifier__n_estimators\": [2,5,10,20,50,75,100,150,200],\n",
    "    \"lgbmclassifier__num_leaves\":  [2,5,10,20,50,75,100,150,200],\n",
    "    \"lgbmclassifier__min_child_samples\":  [2,5,10,20,50,75,100,150,200],\n",
    "    \"lgbmclassifier__max_depth\": [2,5,10,20,50,75,100,150,200],\n",
    "}\n",
    "random_search_lgbm_sub2 = RandomizedSearchCV(pipe_lgbm, param_distributions=param_dist, n_jobs=-1, n_iter=30, cv=5,scoring=\"accuracy\",random_state=123)\n",
    "random_search_lgbm_sub2.fit(X_train_sub2, y_train_sub2);\n",
    "\n",
    "\n",
    "\n",
    "### 5. XGBoost\n",
    "\n",
    "param_dist = {\n",
    "    \"xgbclassifier__max_depth\": [2,3,4,5,7,10,20],\n",
    "    \"xgbclassifier__min_child_weight\": [0.01,0.1,0.5,0.75,1],\n",
    "    \"xgbclassifier__subsample\": [0.1,0.5,0.75,1],\n",
    "    \"xgbclassifier__n_estimators\": [2,5,10,20,50,75,100,150,200],\n",
    "    \"xgbclassifier__learning_rate\": [ 0.1, 0.2, 0.3],\n",
    "    \"xgbclassifier__eta\": [0.05, 0.1, 0.2, 0.3],\n",
    "}\n",
    "random_search_xgb_sub2 = RandomizedSearchCV(pipe_xgb, param_distributions=param_dist, n_jobs=-1, n_iter=20, cv=5,scoring=\"accuracy\",random_state=123)\n",
    "random_search_xgb_sub2.fit(X_train_sub2, y_train_sub2);\n",
    "\n",
    "\n",
    "\n",
    "### 6. SVC\n",
    "\n",
    "param_dist = {\n",
    "    \"svc__C\": loguniform(0.001,100),\n",
    "    \"svc__gamma\": loguniform(0.001,10),\n",
    "}\n",
    "\n",
    "random_search_svc_sub2 = RandomizedSearchCV(pipe_svc_rbf, param_distributions=param_dist, n_jobs=-1, n_iter=20, cv=5,scoring=\"accuracy\",random_state=123)\n",
    "random_search_svc_sub2.fit(X_train_sub2, y_train_sub2);\n",
    "\n",
    "\n",
    "### 7. knn\n",
    "param_dist = {\n",
    "    \"kneighborsclassifier__n_neighbors\": [2, 3, 4, 5, 6, 7, 8, 9, 10, 11, 12, 13, 14, 15],\n",
    "}\n",
    "\n",
    "random_search_knn_sub2 = RandomizedSearchCV(pipe_knn, param_distributions=param_dist, n_jobs=-1, n_iter=10, cv=5,scoring=\"accuracy\")\n",
    "random_search_knn_sub2.fit(X_train_sub2, y_train_sub2);\n",
    "\n",
    "### 8. ridge\n",
    "param_dist = {\n",
    "    \"ridgeclassifier__alpha\": loguniform(0.005,100),\n",
    "}\n",
    "\n",
    "random_search_r_sub2 = RandomizedSearchCV(pipe_r, param_distributions=param_dist, n_jobs=-1, n_iter=20, cv=5,scoring=\"accuracy\")\n",
    "random_search_r_sub2.fit(X_train_sub2, y_train_sub2);\n"
   ]
  },
  {
   "cell_type": "code",
   "execution_count": 52,
   "id": "f9d221ba",
   "metadata": {
    "slideshow": {
     "slide_type": "skip"
    }
   },
   "outputs": [],
   "source": [
    "classifiers_sub1={\n",
    "             \"LR_sub1\": random_search_lr_sub1.best_estimator_,\n",
    "             \"R_sub1\": random_search_r_sub1.best_estimator_,\n",
    "             \"CB_sub1\":random_search_cb_sub1.best_estimator_,\n",
    "             \"RF_sub1\":random_search_rf_sub1.best_estimator_,\n",
    "             \"LGBM_sub1\":random_search_lgbm_sub1.best_estimator_,\n",
    "             \"XGB_sub1\":random_search_xgb_sub1.best_estimator_,\n",
    "             \"SVC_sub1\":random_search_svc_sub1.best_estimator_,\n",
    "             \"knn_sub1\":random_search_knn_sub1.best_estimator_,\n",
    "}"
   ]
  },
  {
   "cell_type": "code",
   "execution_count": 53,
   "id": "ef0dd362",
   "metadata": {
    "slideshow": {
     "slide_type": "skip"
    }
   },
   "outputs": [],
   "source": [
    "classifiers_sub2={\n",
    "             \"LR_sub2\": random_search_lr_sub2.best_estimator_,\n",
    "             \"R_sub2\": random_search_r_sub2.best_estimator_,\n",
    "             \"CB_sub2\":random_search_cb_sub2.best_estimator_,\n",
    "             \"RF_sub2\":random_search_rf_sub2.best_estimator_,\n",
    "             \"LGBM_sub2\":random_search_lgbm_sub2.best_estimator_,\n",
    "             \"XGB_sub2\":random_search_xgb_sub2.best_estimator_,\n",
    "             \"SVC_sub2\":random_search_svc_sub2.best_estimator_,\n",
    "             \"knn_sub2\":random_search_knn_sub2.best_estimator_,\n",
    "}"
   ]
  },
  {
   "cell_type": "markdown",
   "id": "0b5e4226",
   "metadata": {
    "slideshow": {
     "slide_type": "slide"
    }
   },
   "source": [
    "### Using KMeans\n",
    "I use K_means to get the best stacking on each group and then merge two predictions and submit. "
   ]
  },
  {
   "cell_type": "code",
   "execution_count": 54,
   "id": "bfa1e7f9",
   "metadata": {
    "slideshow": {
     "slide_type": "fragment"
    }
   },
   "outputs": [],
   "source": [
    "y_clusters=pipe_KMeans.predict(X_test)\n",
    "X_test_sub1=X_test[y_clusters==0]\n",
    "X_test_sub2=X_test[y_clusters==1]"
   ]
  },
  {
   "cell_type": "code",
   "execution_count": 55,
   "id": "fd96771e",
   "metadata": {
    "slideshow": {
     "slide_type": "skip"
    }
   },
   "outputs": [],
   "source": [
    "stacking_model_sub1 = StackingClassifier(list(classifiers_sub1.items()))\n",
    "stacking_model_sub1.fit(X_train_sub1, y_train_sub1);\n",
    "pred_sub1= stacking_model_sub1.predict(X_test_sub1)\n",
    "prediction_sub1=pd.concat([X_test_sub1[\"PassengerId\"],pd.DataFrame(pred_sub1==1,index=X_test_sub1.index,columns=[\"Transported\"])], axis=1)"
   ]
  },
  {
   "cell_type": "code",
   "execution_count": 56,
   "id": "10886a72",
   "metadata": {
    "slideshow": {
     "slide_type": "skip"
    }
   },
   "outputs": [],
   "source": [
    "stacking_model_sub2 = StackingClassifier(list(classifiers_sub2.items()))\n",
    "stacking_model_sub2.fit(X_train_sub2, y_train_sub2);\n",
    "pred_sub2= stacking_model_sub2.predict(X_test_sub2)\n",
    "prediction_sub2=pd.concat([X_test_sub2[\"PassengerId\"],pd.DataFrame(pred_sub2==1,index=X_test_sub2.index,columns=[\"Transported\"])], axis=1)"
   ]
  },
  {
   "cell_type": "code",
   "execution_count": 57,
   "id": "b8f29e87",
   "metadata": {
    "slideshow": {
     "slide_type": "skip"
    }
   },
   "outputs": [],
   "source": [
    "#using K_means\n",
    "prediction_kmeans=pd.concat([prediction_sub1,prediction_sub2]).sort_index()\n",
    "prediction_kmeans.to_csv (\"Stacking_KMeans\"+\".csv\", index = False, header=True)"
   ]
  },
  {
   "cell_type": "code",
   "execution_count": 58,
   "id": "2b538049",
   "metadata": {
    "slideshow": {
     "slide_type": "skip"
    }
   },
   "outputs": [],
   "source": [
    "#only sub1\n",
    "prediction_stacking_sub1=prediction_stacking.copy()\n",
    "for i,j in enumerate(prediction_sub1.index):\n",
    "    prediction_stacking_sub1.iloc[j]=prediction_sub1.iloc[i]\n",
    "prediction_stacking_sub1.to_csv (\"stacking_sub1\"+\".csv\", index = False, header=True)"
   ]
  },
  {
   "cell_type": "markdown",
   "id": "94a2e26b",
   "metadata": {
    "slideshow": {
     "slide_type": "fragment"
    }
   },
   "source": [
    "Submit... score= **0.80874**\n"
   ]
  },
  {
   "cell_type": "markdown",
   "id": "fe5f9635",
   "metadata": {
    "slideshow": {
     "slide_type": "slide"
    }
   },
   "source": [
    "# What else? How can we imrove the score?"
   ]
  },
  {
   "cell_type": "markdown",
   "id": "7b13c881",
   "metadata": {
    "slideshow": {
     "slide_type": "fragment"
    }
   },
   "source": [
    "I used Neural Nets and the score was better than each individual classifier, but couln't beat the stacking score."
   ]
  },
  {
   "cell_type": "markdown",
   "id": "441755e9",
   "metadata": {
    "slideshow": {
     "slide_type": "fragment"
    }
   },
   "source": [
    "Tuning NN is not trivial. The number of layers and nodes are still kind of mistery!"
   ]
  },
  {
   "cell_type": "markdown",
   "id": "7e741d56",
   "metadata": {
    "slideshow": {
     "slide_type": "fragment"
    }
   },
   "source": [
    "It is hard to put keras NN into your stacking classifier. Unless you right your own stacking code."
   ]
  },
  {
   "cell_type": "markdown",
   "id": "6c80aab9",
   "metadata": {
    "slideshow": {
     "slide_type": "slide"
    }
   },
   "source": [
    "# Neural Nets "
   ]
  },
  {
   "cell_type": "code",
   "execution_count": 59,
   "id": "4934482c",
   "metadata": {
    "slideshow": {
     "slide_type": "fragment"
    }
   },
   "outputs": [],
   "source": [
    "def get_model(size):\n",
    "    pipe_NN = make_pipeline(preprocessor, Sequential())\n",
    "    pipe_NN['sequential'].add(Dense(100, input_dim=size,activation='softmax'))\n",
    "    pipe_NN['sequential'].add(BatchNormalization())\n",
    "    pipe_NN['sequential'].add(Dropout(0.5))\n",
    "    pipe_NN['sequential'].add(Dense(15,activation='relu'))\n",
    "    pipe_NN['sequential'].add(BatchNormalization())\n",
    "    pipe_NN['sequential'].add(Dropout(0.5))\n",
    "    pipe_NN['sequential'].add(Dense(5,activation='softmax'))\n",
    "    pipe_NN['sequential'].add(BatchNormalization())\n",
    "    pipe_NN['sequential'].add(Dropout(0.5))\n",
    "    pipe_NN['sequential'].add(Dense(1,activation='sigmoid'))\n",
    "    pipe_NN['sequential'].compile(loss=\"binary_crossentropy\",optimizer=\"rmsprop\",metrics=\"accuracy\")\n",
    "    return pipe_NN"
   ]
  },
  {
   "cell_type": "code",
   "execution_count": 60,
   "id": "c8ab7143",
   "metadata": {
    "slideshow": {
     "slide_type": "subslide"
    }
   },
   "outputs": [],
   "source": [
    "def keros_cross_val(model,X,y,**kwargs):\n",
    "    epochs = kwargs[\"epochs\"] if \"epochs\" in kwargs else 100    \n",
    "    cv = kwargs[\"cv\"] if \"cv\" in kwargs else 5\n",
    "    shuffle = kwargs[\"shuffle\"] if \"shuffle\" in kwargs else True\n",
    "    random_state = kwargs[\"random_state\"] if \"random_state\" in kwargs else False\n",
    "    verbose = kwargs[\"verbose\"] if \"verbose\" in kwargs else 0\n",
    "            \n",
    "    skf=StratifiedKFold(n_splits=cv, shuffle=shuffle, random_state=random_state);\n",
    "    skf.get_n_splits(X,y);\n",
    "    score={\"train_accuracy\":[],\n",
    "          \"test_accuracy\":[]}\n",
    "    for train_index, test_index in skf.split(X,y):\n",
    "        X_valid_train, X_valid_test = X.iloc[train_index], X.iloc[test_index]\n",
    "        y_valid_train, y_valid_test = y[train_index], y[test_index]\n",
    "        \n",
    "        #X_valid_test_transformed=model['columntransformer'].fit_transform(X_valid_test)\n",
    "        model.fit(X_valid_train,y_valid_train,\n",
    "                  #sequential__validation_data=(X_valid_test_transformed, y_valid_test),\n",
    "                  sequential__epochs=epochs,sequential__verbose=verbose);\n",
    "        pred_valid_train=model.predict(X_valid_train).round()\n",
    "        pred_valid_test=model.predict(X_valid_test).round()\n",
    "        score[\"train_accuracy\"].append(accuracy_score(y_valid_train,pred_valid_train))\n",
    "        score[\"test_accuracy\"].append(accuracy_score(y_valid_test,pred_valid_test))\n",
    "    return score"
   ]
  },
  {
   "cell_type": "markdown",
   "id": "b3f9d598",
   "metadata": {
    "slideshow": {
     "slide_type": "slide"
    }
   },
   "source": [
    "# Neural Nets \n",
    "\n",
    "On the train set we get"
   ]
  },
  {
   "cell_type": "code",
   "execution_count": 61,
   "id": "11308c3a",
   "metadata": {
    "slideshow": {
     "slide_type": "fragment"
    }
   },
   "outputs": [
    {
     "name": "stderr",
     "output_type": "stream",
     "text": [
      "2022-05-04 19:36:51.298361: I tensorflow/core/platform/cpu_feature_guard.cc:151] This TensorFlow binary is optimized with oneAPI Deep Neural Network Library (oneDNN) to use the following CPU instructions in performance-critical operations:  AVX2 FMA\n",
      "To enable them in other operations, rebuild TensorFlow with the appropriate compiler flags.\n"
     ]
    }
   ],
   "source": [
    "pipe_NN = get_model(X_train_transformed.shape[1])\n",
    "scores_NN=keros_cross_val(pipe_NN,X_train,y_train,cv=5,epochs=250,verbose=0,random_state=123,shuffle=True)"
   ]
  },
  {
   "cell_type": "code",
   "execution_count": 62,
   "id": "266f7a20",
   "metadata": {
    "slideshow": {
     "slide_type": "fragment"
    }
   },
   "outputs": [
    {
     "data": {
      "text/html": [
       "<div>\n",
       "<style scoped>\n",
       "    .dataframe tbody tr th:only-of-type {\n",
       "        vertical-align: middle;\n",
       "    }\n",
       "\n",
       "    .dataframe tbody tr th {\n",
       "        vertical-align: top;\n",
       "    }\n",
       "\n",
       "    .dataframe thead th {\n",
       "        text-align: right;\n",
       "    }\n",
       "</style>\n",
       "<table border=\"1\" class=\"dataframe\">\n",
       "  <thead>\n",
       "    <tr style=\"text-align: right;\">\n",
       "      <th></th>\n",
       "      <th>train_accuracy</th>\n",
       "      <th>test_accuracy</th>\n",
       "    </tr>\n",
       "  </thead>\n",
       "  <tbody>\n",
       "    <tr>\n",
       "      <th>0</th>\n",
       "      <td>0.826431</td>\n",
       "      <td>0.805635</td>\n",
       "    </tr>\n",
       "    <tr>\n",
       "      <th>1</th>\n",
       "      <td>0.836641</td>\n",
       "      <td>0.810236</td>\n",
       "    </tr>\n",
       "    <tr>\n",
       "      <th>2</th>\n",
       "      <td>0.836353</td>\n",
       "      <td>0.811961</td>\n",
       "    </tr>\n",
       "    <tr>\n",
       "      <th>3</th>\n",
       "      <td>0.837815</td>\n",
       "      <td>0.815880</td>\n",
       "    </tr>\n",
       "    <tr>\n",
       "      <th>4</th>\n",
       "      <td>0.838390</td>\n",
       "      <td>0.812428</td>\n",
       "    </tr>\n",
       "  </tbody>\n",
       "</table>\n",
       "</div>"
      ],
      "text/plain": [
       "   train_accuracy  test_accuracy\n",
       "0        0.826431       0.805635\n",
       "1        0.836641       0.810236\n",
       "2        0.836353       0.811961\n",
       "3        0.837815       0.815880\n",
       "4        0.838390       0.812428"
      ]
     },
     "execution_count": 62,
     "metadata": {},
     "output_type": "execute_result"
    }
   ],
   "source": [
    "pd.DataFrame(scores_NN)"
   ]
  },
  {
   "cell_type": "code",
   "execution_count": 63,
   "id": "c5ad3583",
   "metadata": {
    "slideshow": {
     "slide_type": "fragment"
    }
   },
   "outputs": [
    {
     "data": {
      "text/plain": [
       "train_accuracy    0.835126\n",
       "test_accuracy     0.811228\n",
       "dtype: float64"
      ]
     },
     "execution_count": 63,
     "metadata": {},
     "output_type": "execute_result"
    }
   ],
   "source": [
    "pd.DataFrame(scores_NN).mean()"
   ]
  },
  {
   "cell_type": "markdown",
   "id": "f7e5ea82",
   "metadata": {
    "slideshow": {
     "slide_type": "slide"
    }
   },
   "source": [
    "# Neural Nets \n",
    "\n",
    "On the train set we get"
   ]
  },
  {
   "cell_type": "code",
   "execution_count": 64,
   "id": "422dfa27",
   "metadata": {
    "slideshow": {
     "slide_type": "fragment"
    }
   },
   "outputs": [],
   "source": [
    "pipe_NN = get_model(X_train_transformed.shape[1])\n",
    "pipe_NN.fit(X_train,y_train,sequential__epochs=50,sequential__verbose=0);\n",
    "pred[\"keras\"]=(pipe_NN.predict(X_test)).round()\n",
    "prediction=pd.concat([X_test[\"PassengerId\"],pd.DataFrame(pred[\"keras\"]==1,columns=[\"Transported\"])], axis=1)\n",
    "prediction.to_csv (\"keras\"+\".csv\", index = False, header=True)"
   ]
  },
  {
   "cell_type": "markdown",
   "id": "2f71ba64",
   "metadata": {
    "slideshow": {
     "slide_type": "fragment"
    }
   },
   "source": [
    "Submit: Test score = **0.79307**"
   ]
  },
  {
   "cell_type": "markdown",
   "id": "6d217a74",
   "metadata": {
    "slideshow": {
     "slide_type": "slide"
    }
   },
   "source": [
    "# Neural Nets "
   ]
  },
  {
   "cell_type": "markdown",
   "id": "67cbd084",
   "metadata": {
    "slideshow": {
     "slide_type": "fragment"
    }
   },
   "source": [
    "We can use Neural nets as feature extractors!"
   ]
  },
  {
   "cell_type": "markdown",
   "id": "f78260b4",
   "metadata": {
    "slideshow": {
     "slide_type": "fragment"
    }
   },
   "source": [
    "Didn't help!"
   ]
  }
 ],
 "metadata": {
  "celltoolbar": "Slideshow",
  "kernelspec": {
   "display_name": "Python [conda env:cpsc330]",
   "language": "python",
   "name": "conda-env-cpsc330-py"
  },
  "language_info": {
   "codemirror_mode": {
    "name": "ipython",
    "version": 3
   },
   "file_extension": ".py",
   "mimetype": "text/x-python",
   "name": "python",
   "nbconvert_exporter": "python",
   "pygments_lexer": "ipython3",
   "version": "3.9.9"
  }
 },
 "nbformat": 4,
 "nbformat_minor": 5
}
